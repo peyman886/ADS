{
  "cells": [
    {
      "cell_type": "markdown",
      "metadata": {
        "id": "c4R8L6_xAEJq"
      },
      "source": [
        "# Information"
      ]
    },
    {
      "cell_type": "markdown",
      "metadata": {
        "id": "W8qMwBZ1WQs8"
      },
      "source": [
        "## **Students Information:**\n",
        "\n",
        "\n",
        "1. Student 1\n",
        "  * Name = Peyman \n",
        "  * Last Name = Naseri\n",
        "  * Student ID = 4011305965014\n",
        "2. Student 2\n",
        "  * Name = Maryam\n",
        "  * Last Name = HokmAbadi\n",
        "  * Student ID = 4011305965011\n",
        "\n",
        "\n"
      ]
    },
    {
      "cell_type": "markdown",
      "metadata": {
        "id": "zqwLS89sALIo"
      },
      "source": [
        "## **Project Information:**\n",
        "* Course: Applied Data Science\n",
        "* colab: [link](https://colab.research.google.com/github/peyman886/ADS/blob/main/3_Classification/Classification.ipynb) \n",
        "* github: [link](https://github.com/peyman886/ADS/tree/main/3_Classification/Classification.ipynb)"
      ]
    },
    {
      "cell_type": "markdown",
      "source": [
        "# Required libraries"
      ],
      "metadata": {
        "id": "DYY17U_LxLdv"
      }
    },
    {
      "cell_type": "code",
      "execution_count": 8,
      "metadata": {
        "ExecuteTime": {
          "end_time": "2021-10-22T19:21:39.832815Z",
          "start_time": "2021-10-22T19:21:38.486445Z"
        },
        "id": "Xe8C4mHKqLUC"
      },
      "outputs": [],
      "source": [
        "import numpy as np\n",
        "import pandas as pd \n",
        "\n",
        "import matplotlib.pyplot as plt\n",
        "import seaborn as sns               \n",
        "%matplotlib inline\n",
        "sns.set()\n",
        "plt.style.use(\"ggplot\")\n",
        "\n",
        "import warnings                                            \n",
        "warnings.filterwarnings('ignore')"
      ]
    },
    {
      "cell_type": "code",
      "source": [
        "from PIL import Image\n",
        "from sklearn import datasets, metrics\n",
        "from matplotlib.pyplot import figure\n",
        "from sklearn.metrics import accuracy_score\n",
        "\n",
        "\n",
        "from sklearn.model_selection import train_test_split \n",
        "\n",
        "\n",
        "from sklearn import svm\n",
        "from sklearn.linear_model import LogisticRegression\n",
        "from sklearn.tree import DecisionTreeClassifier\n",
        "from sklearn.ensemble import RandomForestClassifier\n",
        "from sklearn.neighbors import KNeighborsClassifier\n",
        "from sklearn.ensemble import AdaBoostClassifier\n",
        "\n",
        "\n",
        "from sklearn.model_selection import GridSearchCV\n",
        "from sklearn.model_selection import RepeatedStratifiedKFold\n"
      ],
      "metadata": {
        "id": "ml26FhjsrZ_C"
      },
      "execution_count": 9,
      "outputs": []
    },
    {
      "cell_type": "markdown",
      "source": [
        "# Binary Calssification"
      ],
      "metadata": {
        "id": "txzKmQ6rwqRD"
      }
    },
    {
      "cell_type": "markdown",
      "metadata": {
        "id": "KXgWUBORTGjU"
      },
      "source": [
        "## load and show data"
      ]
    },
    {
      "cell_type": "code",
      "execution_count": 5,
      "metadata": {
        "colab": {
          "base_uri": "https://localhost:8080/",
          "height": 474
        },
        "id": "pBqGtBboSkaH",
        "outputId": "396ec3bf-42f7-4364-b712-a76bc415728b"
      },
      "outputs": [
        {
          "output_type": "execute_result",
          "data": {
            "text/plain": [
              "         X1        X2  Y\n",
              "0  0.004291 -0.174600 -1\n",
              "1  2.225050  0.117181  1\n",
              "2  0.274173 -0.514910 -1\n",
              "3 -1.045133 -0.798009  1\n",
              "4  1.611457  0.239339  1"
            ],
            "text/html": [
              "\n",
              "  <div id=\"df-cb5fe515-493e-49d6-a163-59e62a49c2ff\">\n",
              "    <div class=\"colab-df-container\">\n",
              "      <div>\n",
              "<style scoped>\n",
              "    .dataframe tbody tr th:only-of-type {\n",
              "        vertical-align: middle;\n",
              "    }\n",
              "\n",
              "    .dataframe tbody tr th {\n",
              "        vertical-align: top;\n",
              "    }\n",
              "\n",
              "    .dataframe thead th {\n",
              "        text-align: right;\n",
              "    }\n",
              "</style>\n",
              "<table border=\"1\" class=\"dataframe\">\n",
              "  <thead>\n",
              "    <tr style=\"text-align: right;\">\n",
              "      <th></th>\n",
              "      <th>X1</th>\n",
              "      <th>X2</th>\n",
              "      <th>Y</th>\n",
              "    </tr>\n",
              "  </thead>\n",
              "  <tbody>\n",
              "    <tr>\n",
              "      <th>0</th>\n",
              "      <td>0.004291</td>\n",
              "      <td>-0.174600</td>\n",
              "      <td>-1</td>\n",
              "    </tr>\n",
              "    <tr>\n",
              "      <th>1</th>\n",
              "      <td>2.225050</td>\n",
              "      <td>0.117181</td>\n",
              "      <td>1</td>\n",
              "    </tr>\n",
              "    <tr>\n",
              "      <th>2</th>\n",
              "      <td>0.274173</td>\n",
              "      <td>-0.514910</td>\n",
              "      <td>-1</td>\n",
              "    </tr>\n",
              "    <tr>\n",
              "      <th>3</th>\n",
              "      <td>-1.045133</td>\n",
              "      <td>-0.798009</td>\n",
              "      <td>1</td>\n",
              "    </tr>\n",
              "    <tr>\n",
              "      <th>4</th>\n",
              "      <td>1.611457</td>\n",
              "      <td>0.239339</td>\n",
              "      <td>1</td>\n",
              "    </tr>\n",
              "  </tbody>\n",
              "</table>\n",
              "</div>\n",
              "      <button class=\"colab-df-convert\" onclick=\"convertToInteractive('df-cb5fe515-493e-49d6-a163-59e62a49c2ff')\"\n",
              "              title=\"Convert this dataframe to an interactive table.\"\n",
              "              style=\"display:none;\">\n",
              "        \n",
              "  <svg xmlns=\"http://www.w3.org/2000/svg\" height=\"24px\"viewBox=\"0 0 24 24\"\n",
              "       width=\"24px\">\n",
              "    <path d=\"M0 0h24v24H0V0z\" fill=\"none\"/>\n",
              "    <path d=\"M18.56 5.44l.94 2.06.94-2.06 2.06-.94-2.06-.94-.94-2.06-.94 2.06-2.06.94zm-11 1L8.5 8.5l.94-2.06 2.06-.94-2.06-.94L8.5 2.5l-.94 2.06-2.06.94zm10 10l.94 2.06.94-2.06 2.06-.94-2.06-.94-.94-2.06-.94 2.06-2.06.94z\"/><path d=\"M17.41 7.96l-1.37-1.37c-.4-.4-.92-.59-1.43-.59-.52 0-1.04.2-1.43.59L10.3 9.45l-7.72 7.72c-.78.78-.78 2.05 0 2.83L4 21.41c.39.39.9.59 1.41.59.51 0 1.02-.2 1.41-.59l7.78-7.78 2.81-2.81c.8-.78.8-2.07 0-2.86zM5.41 20L4 18.59l7.72-7.72 1.47 1.35L5.41 20z\"/>\n",
              "  </svg>\n",
              "      </button>\n",
              "      \n",
              "  <style>\n",
              "    .colab-df-container {\n",
              "      display:flex;\n",
              "      flex-wrap:wrap;\n",
              "      gap: 12px;\n",
              "    }\n",
              "\n",
              "    .colab-df-convert {\n",
              "      background-color: #E8F0FE;\n",
              "      border: none;\n",
              "      border-radius: 50%;\n",
              "      cursor: pointer;\n",
              "      display: none;\n",
              "      fill: #1967D2;\n",
              "      height: 32px;\n",
              "      padding: 0 0 0 0;\n",
              "      width: 32px;\n",
              "    }\n",
              "\n",
              "    .colab-df-convert:hover {\n",
              "      background-color: #E2EBFA;\n",
              "      box-shadow: 0px 1px 2px rgba(60, 64, 67, 0.3), 0px 1px 3px 1px rgba(60, 64, 67, 0.15);\n",
              "      fill: #174EA6;\n",
              "    }\n",
              "\n",
              "    [theme=dark] .colab-df-convert {\n",
              "      background-color: #3B4455;\n",
              "      fill: #D2E3FC;\n",
              "    }\n",
              "\n",
              "    [theme=dark] .colab-df-convert:hover {\n",
              "      background-color: #434B5C;\n",
              "      box-shadow: 0px 1px 3px 1px rgba(0, 0, 0, 0.15);\n",
              "      filter: drop-shadow(0px 1px 2px rgba(0, 0, 0, 0.3));\n",
              "      fill: #FFFFFF;\n",
              "    }\n",
              "  </style>\n",
              "\n",
              "      <script>\n",
              "        const buttonEl =\n",
              "          document.querySelector('#df-cb5fe515-493e-49d6-a163-59e62a49c2ff button.colab-df-convert');\n",
              "        buttonEl.style.display =\n",
              "          google.colab.kernel.accessAllowed ? 'block' : 'none';\n",
              "\n",
              "        async function convertToInteractive(key) {\n",
              "          const element = document.querySelector('#df-cb5fe515-493e-49d6-a163-59e62a49c2ff');\n",
              "          const dataTable =\n",
              "            await google.colab.kernel.invokeFunction('convertToInteractive',\n",
              "                                                     [key], {});\n",
              "          if (!dataTable) return;\n",
              "\n",
              "          const docLinkHtml = 'Like what you see? Visit the ' +\n",
              "            '<a target=\"_blank\" href=https://colab.research.google.com/notebooks/data_table.ipynb>data table notebook</a>'\n",
              "            + ' to learn more about interactive tables.';\n",
              "          element.innerHTML = '';\n",
              "          dataTable['output_type'] = 'display_data';\n",
              "          await google.colab.output.renderOutput(dataTable, element);\n",
              "          const docLink = document.createElement('div');\n",
              "          docLink.innerHTML = docLinkHtml;\n",
              "          element.appendChild(docLink);\n",
              "        }\n",
              "      </script>\n",
              "    </div>\n",
              "  </div>\n",
              "  "
            ]
          },
          "metadata": {},
          "execution_count": 5
        },
        {
          "output_type": "display_data",
          "data": {
            "text/plain": [
              "<Figure size 432x288 with 1 Axes>"
            ],
            "image/png": "[encoded data removed]"
          },
          "metadata": {}
        }
      ],
      "source": [
        "df = pd.read_csv(\"data.csv\")\n",
        "df = df.drop(columns = ['Unnamed: 0'])\n",
        "sns.scatterplot(data = df, x='X1', y='X2',hue='Y',alpha=.9, palette=['green', 'red'])\n",
        "df.head()"
      ]
    },
    {
      "cell_type": "markdown",
      "metadata": {
        "id": "8n06LSAsTOvH"
      },
      "source": [
        "## split data into training and test sets"
      ]
    },
    {
      "cell_type": "code",
      "execution_count": 6,
      "metadata": {
        "colab": {
          "base_uri": "https://localhost:8080/"
        },
        "id": "8gpZ9FDlTONr",
        "outputId": "f737a44a-b4b0-4d06-e659-6cc8c0be6407"
      },
      "outputs": [
        {
          "output_type": "stream",
          "name": "stdout",
          "text": [
            "shape X_train: (160, 2)\n",
            "shape X_test: (40, 2)\n",
            "\n",
            "shape y_test: (40,)\n",
            "shape y_train: (160,)\n"
          ]
        }
      ],
      "source": [
        "y = df['Y'].to_numpy()\n",
        "X = df.drop(columns=['Y']).to_numpy()\n",
        "X_train, X_test, y_train, y_test = train_test_split(\n",
        "    X, y, test_size=0.2, random_state=43, shuffle=True)\n",
        "\n",
        "print('shape X_train:', X_train.shape)\n",
        "print('shape X_test:', X_test.shape)\n",
        "print()\n",
        "print('shape y_test:', y_test.shape)\n",
        "print('shape y_train:', y_train.shape)"
      ]
    },
    {
      "cell_type": "markdown",
      "metadata": {
        "id": "Cg0mAkphdz7r"
      },
      "source": [
        "## Models"
      ]
    },
    {
      "cell_type": "code",
      "execution_count": 7,
      "metadata": {
        "id": "NEBXtJ4_dz7s"
      },
      "outputs": [],
      "source": [
        "\n",
        "\n",
        "def training(model):\n",
        "  # print(model)\n",
        "  model.fit(X_train, y_train)\n",
        "  predicted = model.predict(X_test)\n",
        "  print(\n",
        "    f\"Classification report for classifier {model}:\\n\"\n",
        "    f\"{metrics.classification_report(y_test, predicted)}\\n\"\n",
        "    )\n",
        "  disp = metrics.ConfusionMatrixDisplay.from_predictions(y_test, predicted)\n",
        "  disp.figure_.suptitle(\"Confusion Matrix\")\n",
        "  # print(f\"Confusion matrix:\\n{disp.confusion_matrix}\")\n",
        "  plt.show()\n",
        "  print('\\n\\n\\n')\n",
        "  "
      ]
    },
    {
      "cell_type": "code",
      "execution_count": 8,
      "metadata": {
        "id": "WLkM8jojdz7s"
      },
      "outputs": [],
      "source": [
        "\n",
        "\n",
        "\n",
        "models = [\n",
        "    LogisticRegression(),\n",
        "    svm.SVC(kernel='linear'),\n",
        "    svm.SVC(kernel='rbf', gamma=1),\n",
        "    KNeighborsClassifier(n_neighbors=3),\n",
        "    DecisionTreeClassifier(random_state=0, max_depth=3),\n",
        "    RandomForestClassifier(max_depth=3, random_state=0),\n",
        "    AdaBoostClassifier(\n",
        "        DecisionTreeClassifier(max_depth=1),n_estimators=100)\n",
        "]"
      ]
    },
    {
      "cell_type": "code",
      "execution_count": 9,
      "metadata": {
        "id": "oflxdD1Gdz7t",
        "outputId": "1b25ebd9-f810-48c1-911e-6b6fe8a1ca82",
        "colab": {
          "base_uri": "https://localhost:8080/",
          "height": 1000
        }
      },
      "outputs": [
        {
          "output_type": "stream",
          "name": "stdout",
          "text": [
            "Classification report for classifier LogisticRegression():\n",
            "              precision    recall  f1-score   support\n",
            "\n",
            "          -1       0.43      0.24      0.31        25\n",
            "           1       0.27      0.47      0.34        15\n",
            "\n",
            "    accuracy                           0.33        40\n",
            "   macro avg       0.35      0.35      0.32        40\n",
            "weighted avg       0.37      0.33      0.32        40\n",
            "\n",
            "\n"
          ]
        },
        {
          "output_type": "display_data",
          "data": {
            "text/plain": [
              "<Figure size 432x288 with 2 Axes>"
            ],
            "image/png": "[encoded data removed]"
          },
          "metadata": {}
        },
        {
          "output_type": "stream",
          "name": "stdout",
          "text": [
            "\n",
            "\n",
            "\n",
            "\n",
            "Classification report for classifier SVC(kernel='linear'):\n",
            "              precision    recall  f1-score   support\n",
            "\n",
            "          -1       0.62      0.60      0.61        25\n",
            "           1       0.38      0.40      0.39        15\n",
            "\n",
            "    accuracy                           0.53        40\n",
            "   macro avg       0.50      0.50      0.50        40\n",
            "weighted avg       0.53      0.53      0.53        40\n",
            "\n",
            "\n"
          ]
        },
        {
          "output_type": "display_data",
          "data": {
            "text/plain": [
              "<Figure size 432x288 with 2 Axes>"
            ],
            "image/png": "[encoded data removed]"
          },
          "metadata": {}
        },
        {
          "output_type": "stream",
          "name": "stdout",
          "text": [
            "\n",
            "\n",
            "\n",
            "\n",
            "Classification report for classifier SVC(gamma=1):\n",
            "              precision    recall  f1-score   support\n",
            "\n",
            "          -1       0.96      1.00      0.98        25\n",
            "           1       1.00      0.93      0.97        15\n",
            "\n",
            "    accuracy                           0.97        40\n",
            "   macro avg       0.98      0.97      0.97        40\n",
            "weighted avg       0.98      0.97      0.97        40\n",
            "\n",
            "\n"
          ]
        },
        {
          "output_type": "display_data",
          "data": {
            "text/plain": [
              "<Figure size 432x288 with 2 Axes>"
            ],
            "image/png": "[encoded data removed]"
          },
          "metadata": {}
        },
        {
          "output_type": "stream",
          "name": "stdout",
          "text": [
            "\n",
            "\n",
            "\n",
            "\n",
            "Classification report for classifier KNeighborsClassifier(n_neighbors=3):\n",
            "              precision    recall  f1-score   support\n",
            "\n",
            "          -1       0.96      0.96      0.96        25\n",
            "           1       0.93      0.93      0.93        15\n",
            "\n",
            "    accuracy                           0.95        40\n",
            "   macro avg       0.95      0.95      0.95        40\n",
            "weighted avg       0.95      0.95      0.95        40\n",
            "\n",
            "\n"
          ]
        },
        {
          "output_type": "display_data",
          "data": {
            "text/plain": [
              "<Figure size 432x288 with 2 Axes>"
            ],
            "image/png": "[encoded data removed]"
          },
          "metadata": {}
        },
        {
          "output_type": "stream",
          "name": "stdout",
          "text": [
            "\n",
            "\n",
            "\n",
            "\n",
            "Classification report for classifier DecisionTreeClassifier(max_depth=3, random_state=0):\n",
            "              precision    recall  f1-score   support\n",
            "\n",
            "          -1       0.83      0.96      0.89        25\n",
            "           1       0.91      0.67      0.77        15\n",
            "\n",
            "    accuracy                           0.85        40\n",
            "   macro avg       0.87      0.81      0.83        40\n",
            "weighted avg       0.86      0.85      0.84        40\n",
            "\n",
            "\n"
          ]
        },
        {
          "output_type": "display_data",
          "data": {
            "text/plain": [
              "<Figure size 432x288 with 2 Axes>"
            ],
            "image/png": "[encoded data removed]"
          },
          "metadata": {}
        },
        {
          "output_type": "stream",
          "name": "stdout",
          "text": [
            "\n",
            "\n",
            "\n",
            "\n",
            "Classification report for classifier RandomForestClassifier(max_depth=3, random_state=0):\n",
            "              precision    recall  f1-score   support\n",
            "\n",
            "          -1       0.96      0.96      0.96        25\n",
            "           1       0.93      0.93      0.93        15\n",
            "\n",
            "    accuracy                           0.95        40\n",
            "   macro avg       0.95      0.95      0.95        40\n",
            "weighted avg       0.95      0.95      0.95        40\n",
            "\n",
            "\n"
          ]
        },
        {
          "output_type": "display_data",
          "data": {
            "text/plain": [
              "<Figure size 432x288 with 2 Axes>"
            ],
            "image/png": "[encoded data removed]"
          },
          "metadata": {}
        },
        {
          "output_type": "stream",
          "name": "stdout",
          "text": [
            "\n",
            "\n",
            "\n",
            "\n",
            "Classification report for classifier AdaBoostClassifier(base_estimator=DecisionTreeClassifier(max_depth=1),\n",
            "                   n_estimators=100):\n",
            "              precision    recall  f1-score   support\n",
            "\n",
            "          -1       1.00      0.92      0.96        25\n",
            "           1       0.88      1.00      0.94        15\n",
            "\n",
            "    accuracy                           0.95        40\n",
            "   macro avg       0.94      0.96      0.95        40\n",
            "weighted avg       0.96      0.95      0.95        40\n",
            "\n",
            "\n"
          ]
        },
        {
          "output_type": "display_data",
          "data": {
            "text/plain": [
              "<Figure size 432x288 with 2 Axes>"
            ],
            "image/png": "[encoded data removed]"
          },
          "metadata": {}
        },
        {
          "output_type": "stream",
          "name": "stdout",
          "text": [
            "\n",
            "\n",
            "\n",
            "\n"
          ]
        }
      ],
      "source": [
        "for model in models:\n",
        "  training(model)"
      ]
    },
    {
      "cell_type": "markdown",
      "metadata": {
        "id": "BpzUNKCCTsyE"
      },
      "source": [
        "## tuning hyperparameters"
      ]
    },
    {
      "cell_type": "code",
      "source": [
        "\n",
        "def tuning(model,param_grid, X=X_train, y=y_train):\n",
        "  # define the model with default hyperparameters\n",
        "  print('hyperparameters of model :',list(model.get_params().keys()))\n",
        "\n",
        "  cv = RepeatedStratifiedKFold(n_splits=10, n_repeats=3, random_state=1)  #evaluation procedure\n",
        "  grid_search = GridSearchCV(estimator=model, param_grid=param_grid, n_jobs=-1, cv=cv, scoring='accuracy') #search procedure\n",
        "  grid_result = grid_search.fit(X, y)\n",
        "\n",
        "  print(\"Best: %f using %s\" % (grid_result.best_score_, grid_result.best_params_))\n",
        "  \n",
        "  return grid_result.best_estimator_\n"
      ],
      "metadata": {
        "id": "0Q1Jy4gQyDg8"
      },
      "execution_count": 10,
      "outputs": []
    },
    {
      "cell_type": "code",
      "source": [],
      "metadata": {
        "id": "pB5x1ppp071U"
      },
      "execution_count": 10,
      "outputs": []
    },
    {
      "cell_type": "markdown",
      "source": [
        "### knn"
      ],
      "metadata": {
        "id": "Rg9iLMIj36mJ"
      }
    },
    {
      "cell_type": "code",
      "source": [
        "knn = KNeighborsClassifier()\n",
        "param_grid = {\n",
        "    'n_neighbors': [2,3,4, 5, 7, 10, 20, 50]\n",
        "}\n",
        "best_knn = tuning(knn,param_grid)\n",
        "training(best_knn)"
      ],
      "metadata": {
        "colab": {
          "base_uri": "https://localhost:8080/",
          "height": 609
        },
        "id": "VYQlV68zyrSv",
        "outputId": "eb553a29-430b-4aa2-ebba-9c40bb5709a3"
      },
      "execution_count": 11,
      "outputs": [
        {
          "output_type": "stream",
          "name": "stdout",
          "text": [
            "hyperparameters of model : ['algorithm', 'leaf_size', 'metric', 'metric_params', 'n_jobs', 'n_neighbors', 'p', 'weights']\n",
            "Best: 0.929167 using {'n_neighbors': 5}\n",
            "Classification report for classifier KNeighborsClassifier():\n",
            "              precision    recall  f1-score   support\n",
            "\n",
            "          -1       0.96      0.92      0.94        25\n",
            "           1       0.88      0.93      0.90        15\n",
            "\n",
            "    accuracy                           0.93        40\n",
            "   macro avg       0.92      0.93      0.92        40\n",
            "weighted avg       0.93      0.93      0.93        40\n",
            "\n",
            "\n"
          ]
        },
        {
          "output_type": "display_data",
          "data": {
            "text/plain": [
              "<Figure size 432x288 with 2 Axes>"
            ],
            "image/png": "[encoded data removed]"
          },
          "metadata": {}
        },
        {
          "output_type": "stream",
          "name": "stdout",
          "text": [
            "\n",
            "\n",
            "\n",
            "\n"
          ]
        }
      ]
    },
    {
      "cell_type": "markdown",
      "source": [
        "### Decision Tree"
      ],
      "metadata": {
        "id": "-9vnpitT3_Dh"
      }
    },
    {
      "cell_type": "code",
      "source": [
        "DTree = DecisionTreeClassifier()\n",
        "param_grid = {\n",
        "    'max_depth': list(range(20))\n",
        "}\n",
        "best_DTree = tuning(DTree,param_grid)\n",
        "training(best_DTree)"
      ],
      "metadata": {
        "colab": {
          "base_uri": "https://localhost:8080/",
          "height": 629
        },
        "id": "QG7Xnx9M3Aan",
        "outputId": "f7d57ac9-59ad-4b36-a10f-c0a6476e6de7"
      },
      "execution_count": 12,
      "outputs": [
        {
          "output_type": "stream",
          "name": "stdout",
          "text": [
            "hyperparameters of model : ['ccp_alpha', 'class_weight', 'criterion', 'max_depth', 'max_features', 'max_leaf_nodes', 'min_impurity_decrease', 'min_samples_leaf', 'min_samples_split', 'min_weight_fraction_leaf', 'random_state', 'splitter']\n",
            "Best: 0.918750 using {'max_depth': 11}\n",
            "Classification report for classifier DecisionTreeClassifier(max_depth=11):\n",
            "              precision    recall  f1-score   support\n",
            "\n",
            "          -1       0.96      0.92      0.94        25\n",
            "           1       0.88      0.93      0.90        15\n",
            "\n",
            "    accuracy                           0.93        40\n",
            "   macro avg       0.92      0.93      0.92        40\n",
            "weighted avg       0.93      0.93      0.93        40\n",
            "\n",
            "\n"
          ]
        },
        {
          "output_type": "display_data",
          "data": {
            "text/plain": [
              "<Figure size 432x288 with 2 Axes>"
            ],
            "image/png": "[encoded data removed]"
          },
          "metadata": {}
        },
        {
          "output_type": "stream",
          "name": "stdout",
          "text": [
            "\n",
            "\n",
            "\n",
            "\n"
          ]
        }
      ]
    },
    {
      "cell_type": "markdown",
      "metadata": {
        "id": "4wtglY0eSmou"
      },
      "source": [
        "# Multi-Class Clssification"
      ]
    },
    {
      "cell_type": "markdown",
      "metadata": {
        "id": "iyJ5zdrMV3pb"
      },
      "source": [
        "### Load and show some of data points"
      ]
    },
    {
      "cell_type": "code",
      "execution_count": 10,
      "metadata": {
        "colab": {
          "base_uri": "https://localhost:8080/"
        },
        "id": "EY0ait_NSrjx",
        "outputId": "5269db25-b4de-40bb-afe7-cf3794a77648"
      },
      "outputs": [
        {
          "output_type": "execute_result",
          "data": {
            "text/plain": [
              "dict_keys(['data', 'target', 'frame', 'categories', 'feature_names', 'target_names', 'DESCR', 'details', 'url'])"
            ]
          },
          "metadata": {},
          "execution_count": 10
        }
      ],
      "source": [
        "mnist = datasets.fetch_openml('mnist_784', version=1, as_frame=False)\n",
        "mnist.keys()"
      ]
    },
    {
      "cell_type": "code",
      "execution_count": 11,
      "metadata": {
        "colab": {
          "base_uri": "https://localhost:8080/"
        },
        "id": "9GD8sP7DWHRd",
        "outputId": "1f5793e6-0427-49e6-b697-f5d2ff80cbf3"
      },
      "outputs": [
        {
          "output_type": "stream",
          "name": "stdout",
          "text": [
            "(70000, 784) (70000,)\n"
          ]
        }
      ],
      "source": [
        "X, y = mnist[\"data\"], mnist[\"target\"]\n",
        "y = y.astype(np.uint8)\n",
        "print(X.shape, y.shape)"
      ]
    },
    {
      "cell_type": "code",
      "execution_count": 12,
      "metadata": {
        "colab": {
          "base_uri": "https://localhost:8080/",
          "height": 239
        },
        "id": "6kd6LDFhV_P_",
        "outputId": "dfb37692-748e-477b-b467-d09468eb4336"
      },
      "outputs": [
        {
          "output_type": "display_data",
          "data": {
            "text/plain": [
              "<Figure size 432x288 with 50 Axes>"
            ],
            "image/png": "[encoded data removed]"
          },
          "metadata": {}
        }
      ],
      "source": [
        "def show_images(num_images):\n",
        "    if num_images % 10 == 0 and num_images <= 100:\n",
        "        for digit_num in range(0,num_images): \n",
        "            plt.subplot(num_images/10,10,digit_num+1) #create subplots\n",
        "            mat_data = X[digit_num].reshape(28,28)  #reshape images\n",
        "            plt.imshow(mat_data) #plot the data\n",
        "            plt.xticks([]) #removes numbered labels on x-axis\n",
        "            plt.yticks([]) #removes numbered labels on y-axis\n",
        "show_images(50) "
      ]
    },
    {
      "cell_type": "markdown",
      "metadata": {
        "id": "YUQV4RZoWWYn"
      },
      "source": [
        "### split data into training and test sets"
      ]
    },
    {
      "cell_type": "code",
      "execution_count": 13,
      "metadata": {
        "colab": {
          "base_uri": "https://localhost:8080/"
        },
        "id": "kfuK2irKWWYn",
        "outputId": "3eea7847-d1eb-4a42-ce35-8ec2d995bc7a"
      },
      "outputs": [
        {
          "output_type": "stream",
          "name": "stdout",
          "text": [
            "shape X_train: (56000, 784)\n",
            "shape X_test: (14000, 784)\n",
            "\n",
            "shape y_test: (14000,)\n",
            "shape y_train: (56000,)\n"
          ]
        }
      ],
      "source": [
        "X_train, X_test, y_train, y_test = train_test_split(\n",
        "    X, y, test_size=0.2, random_state=43, shuffle=True)\n",
        "\n",
        "print('shape X_train:', X_train.shape)\n",
        "print('shape X_test:', X_test.shape)\n",
        "print()\n",
        "print('shape y_test:', y_test.shape)\n",
        "print('shape y_train:', y_train.shape)"
      ]
    },
    {
      "cell_type": "markdown",
      "metadata": {
        "id": "dW-gviIaij9o"
      },
      "source": [
        "### Models"
      ]
    },
    {
      "cell_type": "code",
      "source": [
        "! pip install catboost\n",
        "! pip install xgboost\n",
        "! pip install lightgbm"
      ],
      "metadata": {
        "id": "dwF5TgSiK08u",
        "outputId": "e5b66614-f40a-4406-de2c-b2f3157e7011",
        "colab": {
          "base_uri": "https://localhost:8080/"
        }
      },
      "execution_count": 14,
      "outputs": [
        {
          "output_type": "stream",
          "name": "stdout",
          "text": [
            "Looking in indexes: https://pypi.org/simple, https://us-python.pkg.dev/colab-wheels/public/simple/\n",
            "Collecting catboost\n",
            "  Downloading catboost-1.1.1-cp37-none-manylinux1_x86_64.whl (76.6 MB)\n",
            "\u001b[K     |████████████████████████████████| 76.6 MB 136 kB/s \n",
            "\u001b[?25hRequirement already satisfied: numpy>=1.16.0 in /usr/local/lib/python3.7/dist-packages (from catboost) (1.21.6)\n",
            "Requirement already satisfied: plotly in /usr/local/lib/python3.7/dist-packages (from catboost) (5.5.0)\n",
            "Requirement already satisfied: matplotlib in /usr/local/lib/python3.7/dist-packages (from catboost) (3.2.2)\n",
            "Requirement already satisfied: pandas>=0.24.0 in /usr/local/lib/python3.7/dist-packages (from catboost) (1.3.5)\n",
            "Requirement already satisfied: six in /usr/local/lib/python3.7/dist-packages (from catboost) (1.15.0)\n",
            "Requirement already satisfied: graphviz in /usr/local/lib/python3.7/dist-packages (from catboost) (0.10.1)\n",
            "Requirement already satisfied: scipy in /usr/local/lib/python3.7/dist-packages (from catboost) (1.7.3)\n",
            "Requirement already satisfied: pytz>=2017.3 in /usr/local/lib/python3.7/dist-packages (from pandas>=0.24.0->catboost) (2022.6)\n",
            "Requirement already satisfied: python-dateutil>=2.7.3 in /usr/local/lib/python3.7/dist-packages (from pandas>=0.24.0->catboost) (2.8.2)\n",
            "Requirement already satisfied: pyparsing!=2.0.4,!=2.1.2,!=2.1.6,>=2.0.1 in /usr/local/lib/python3.7/dist-packages (from matplotlib->catboost) (3.0.9)\n",
            "Requirement already satisfied: kiwisolver>=1.0.1 in /usr/local/lib/python3.7/dist-packages (from matplotlib->catboost) (1.4.4)\n",
            "Requirement already satisfied: cycler>=0.10 in /usr/local/lib/python3.7/dist-packages (from matplotlib->catboost) (0.11.0)\n",
            "Requirement already satisfied: typing-extensions in /usr/local/lib/python3.7/dist-packages (from kiwisolver>=1.0.1->matplotlib->catboost) (4.1.1)\n",
            "Requirement already satisfied: tenacity>=6.2.0 in /usr/local/lib/python3.7/dist-packages (from plotly->catboost) (8.1.0)\n",
            "Installing collected packages: catboost\n",
            "Successfully installed catboost-1.1.1\n",
            "Looking in indexes: https://pypi.org/simple, https://us-python.pkg.dev/colab-wheels/public/simple/\n",
            "Requirement already satisfied: xgboost in /usr/local/lib/python3.7/dist-packages (0.90)\n",
            "Requirement already satisfied: scipy in /usr/local/lib/python3.7/dist-packages (from xgboost) (1.7.3)\n",
            "Requirement already satisfied: numpy in /usr/local/lib/python3.7/dist-packages (from xgboost) (1.21.6)\n",
            "Looking in indexes: https://pypi.org/simple, https://us-python.pkg.dev/colab-wheels/public/simple/\n",
            "Requirement already satisfied: lightgbm in /usr/local/lib/python3.7/dist-packages (2.2.3)\n",
            "Requirement already satisfied: scipy in /usr/local/lib/python3.7/dist-packages (from lightgbm) (1.7.3)\n",
            "Requirement already satisfied: scikit-learn in /usr/local/lib/python3.7/dist-packages (from lightgbm) (1.0.2)\n",
            "Requirement already satisfied: numpy in /usr/local/lib/python3.7/dist-packages (from lightgbm) (1.21.6)\n",
            "Requirement already satisfied: threadpoolctl>=2.0.0 in /usr/local/lib/python3.7/dist-packages (from scikit-learn->lightgbm) (3.1.0)\n",
            "Requirement already satisfied: joblib>=0.11 in /usr/local/lib/python3.7/dist-packages (from scikit-learn->lightgbm) (1.2.0)\n"
          ]
        }
      ]
    },
    {
      "cell_type": "code",
      "execution_count": 30,
      "metadata": {
        "colab": {
          "base_uri": "https://localhost:8080/",
          "height": 713
        },
        "id": "u_KJZJp7j4xO",
        "outputId": "3ea25dfd-821c-4bc6-f20b-fd831653b19c"
      },
      "outputs": [
        {
          "output_type": "stream",
          "name": "stdout",
          "text": [
            "Classification report for classifier LogisticRegression():\n",
            "              precision    recall  f1-score   support\n",
            "\n",
            "           0       0.96      0.97      0.96      1366\n",
            "           1       0.95      0.97      0.96      1531\n",
            "           2       0.92      0.90      0.91      1422\n",
            "           3       0.89      0.91      0.90      1402\n",
            "           4       0.93      0.93      0.93      1353\n",
            "           5       0.90      0.86      0.88      1297\n",
            "           6       0.95      0.95      0.95      1426\n",
            "           7       0.94      0.93      0.93      1474\n",
            "           8       0.88      0.88      0.88      1355\n",
            "           9       0.89      0.90      0.90      1374\n",
            "\n",
            "    accuracy                           0.92     14000\n",
            "   macro avg       0.92      0.92      0.92     14000\n",
            "weighted avg       0.92      0.92      0.92     14000\n",
            "\n",
            "\n"
          ]
        },
        {
          "output_type": "display_data",
          "data": {
            "text/plain": [
              "<Figure size 432x288 with 2 Axes>"
            ],
            "image/png": "[encoded data removed]"
          },
          "metadata": {}
        },
        {
          "output_type": "stream",
          "name": "stdout",
          "text": [
            "\n",
            "\n",
            "\n",
            "\n"
          ]
        }
      ],
      "source": [
        "model = LogisticRegression(solver = 'lbfgs')\n",
        "training(model)"
      ]
    },
    {
      "cell_type": "code",
      "source": [
        "model = svm.SVC(kernel='linear')\n",
        "training(model)"
      ],
      "metadata": {
        "id": "OMTE-o52Ahfv"
      },
      "execution_count": null,
      "outputs": []
    },
    {
      "cell_type": "code",
      "source": [
        "import xgboost as xgb\n",
        "models = [\n",
        "    \n",
        "\n",
        "    LogisticRegression(multi_class='ovr'),\n",
        "    LogisticRegression(multi_class='multinomial'),\n",
        "\n",
        "\n",
        "    KNeighborsClassifier(n_neighbors=3),\n",
        "\n",
        "    DecisionTreeClassifier(random_state=0, max_depth=3),\n",
        "    RandomForestClassifier(max_depth=3, random_state=0),\n",
        "\n",
        "    AdaBoostClassifier(\n",
        "        DecisionTreeClassifier(max_depth=1),n_estimators=100\n",
        "        ),\n",
        "\n",
        "    xgb.XGBClassifier(\n",
        "        tree_method = 'gpu_hist',\n",
        "        n_jobs=-1,\n",
        "        n_estimators=1000,\n",
        "        max_depth=16,\n",
        "        colsample_bytree=0.8, \n",
        "        subsample=0.8, \n",
        "        learning_rate=0.2,\n",
        "        min_child_weight=6\n",
        "    )\n",
        "    # svm.SVC(kernel='linear'),\n",
        "    svm.SVC(kernel='rbf', gamma=1),\n",
        "    svm.SVC(kernel='rbf', gamma=0.5, C=0.1)\n",
        "\n",
        "]"
      ],
      "metadata": {
        "id": "iu4ZUEXA5AfQ"
      },
      "execution_count": null,
      "outputs": []
    },
    {
      "cell_type": "code",
      "source": [
        "for model in models:\n",
        "  training(model)"
      ],
      "metadata": {
        "id": "9QRXgPuq7BAs"
      },
      "execution_count": null,
      "outputs": []
    },
    {
      "cell_type": "markdown",
      "source": [
        "#### XGBoost"
      ],
      "metadata": {
        "id": "i2BX7ZDbnegl"
      }
    },
    {
      "cell_type": "code",
      "source": [
        "import xgboost as xgb\n",
        "model = xgb.XGBClassifier(\n",
        "    # # objective='multi:logistic',\n",
        "    tree_method = 'gpu_hist',\n",
        "    n_jobs=-1,\n",
        "    n_estimators=1000,\n",
        "    max_depth=16,\n",
        "    colsample_bytree=0.8, \n",
        "    subsample=0.8, \n",
        "    learning_rate=0.2,\n",
        "    min_child_weight=6,\n",
        ")\n",
        "\n",
        "model.fit(\n",
        "    X_train, \n",
        "    y_train, \n",
        "    # eval_metric=['logloss'], \n",
        "    # eval_set=[(X_train, y_train), (x_val, y_val)], \n",
        "    # verbose=True, \n",
        "    # early_stopping_rounds = 20\n",
        ")\n",
        "\n",
        "# plt.rcParams['figure.facecolor'] = 'white'\n",
        "# evals_result = model.evals_result()"
      ],
      "metadata": {
        "id": "SlG4q-Mondrt",
        "outputId": "15452284-bd16-4a25-b2f2-15b64d17e576",
        "colab": {
          "base_uri": "https://localhost:8080/",
          "height": 381
        }
      },
      "execution_count": 20,
      "outputs": [
        {
          "output_type": "error",
          "ename": "KeyboardInterrupt",
          "evalue": "ignored",
          "traceback": [
            "\u001b[0;31m---------------------------------------------------------------------------\u001b[0m",
            "\u001b[0;31mKeyboardInterrupt\u001b[0m                         Traceback (most recent call last)",
            "\u001b[0;32m<ipython-input-20-485818bdbd9c>\u001b[0m in \u001b[0;36m<module>\u001b[0;34m\u001b[0m\n\u001b[1;32m     14\u001b[0m model.fit(\n\u001b[1;32m     15\u001b[0m     \u001b[0mX_train\u001b[0m\u001b[0;34m,\u001b[0m\u001b[0;34m\u001b[0m\u001b[0;34m\u001b[0m\u001b[0m\n\u001b[0;32m---> 16\u001b[0;31m     \u001b[0my_train\u001b[0m\u001b[0;34m,\u001b[0m\u001b[0;34m\u001b[0m\u001b[0;34m\u001b[0m\u001b[0m\n\u001b[0m\u001b[1;32m     17\u001b[0m     \u001b[0;31m# eval_metric=['logloss'],\u001b[0m\u001b[0;34m\u001b[0m\u001b[0;34m\u001b[0m\u001b[0;34m\u001b[0m\u001b[0m\n\u001b[1;32m     18\u001b[0m     \u001b[0;31m# eval_set=[(X_train, y_train), (x_val, y_val)],\u001b[0m\u001b[0;34m\u001b[0m\u001b[0;34m\u001b[0m\u001b[0;34m\u001b[0m\u001b[0m\n",
            "\u001b[0;32m/usr/local/lib/python3.7/dist-packages/xgboost/sklearn.py\u001b[0m in \u001b[0;36mfit\u001b[0;34m(self, X, y, sample_weight, eval_set, eval_metric, early_stopping_rounds, verbose, xgb_model, sample_weight_eval_set, callbacks)\u001b[0m\n\u001b[1;32m    730\u001b[0m                               \u001b[0mevals_result\u001b[0m\u001b[0;34m=\u001b[0m\u001b[0mevals_result\u001b[0m\u001b[0;34m,\u001b[0m \u001b[0mobj\u001b[0m\u001b[0;34m=\u001b[0m\u001b[0mobj\u001b[0m\u001b[0;34m,\u001b[0m \u001b[0mfeval\u001b[0m\u001b[0;34m=\u001b[0m\u001b[0mfeval\u001b[0m\u001b[0;34m,\u001b[0m\u001b[0;34m\u001b[0m\u001b[0;34m\u001b[0m\u001b[0m\n\u001b[1;32m    731\u001b[0m                               \u001b[0mverbose_eval\u001b[0m\u001b[0;34m=\u001b[0m\u001b[0mverbose\u001b[0m\u001b[0;34m,\u001b[0m \u001b[0mxgb_model\u001b[0m\u001b[0;34m=\u001b[0m\u001b[0mxgb_model\u001b[0m\u001b[0;34m,\u001b[0m\u001b[0;34m\u001b[0m\u001b[0;34m\u001b[0m\u001b[0m\n\u001b[0;32m--> 732\u001b[0;31m                               callbacks=callbacks)\n\u001b[0m\u001b[1;32m    733\u001b[0m \u001b[0;34m\u001b[0m\u001b[0m\n\u001b[1;32m    734\u001b[0m         \u001b[0mself\u001b[0m\u001b[0;34m.\u001b[0m\u001b[0mobjective\u001b[0m \u001b[0;34m=\u001b[0m \u001b[0mxgb_options\u001b[0m\u001b[0;34m[\u001b[0m\u001b[0;34m\"objective\"\u001b[0m\u001b[0;34m]\u001b[0m\u001b[0;34m\u001b[0m\u001b[0;34m\u001b[0m\u001b[0m\n",
            "\u001b[0;32m/usr/local/lib/python3.7/dist-packages/xgboost/training.py\u001b[0m in \u001b[0;36mtrain\u001b[0;34m(params, dtrain, num_boost_round, evals, obj, feval, maximize, early_stopping_rounds, evals_result, verbose_eval, xgb_model, callbacks, learning_rates)\u001b[0m\n\u001b[1;32m    214\u001b[0m                            \u001b[0mevals\u001b[0m\u001b[0;34m=\u001b[0m\u001b[0mevals\u001b[0m\u001b[0;34m,\u001b[0m\u001b[0;34m\u001b[0m\u001b[0;34m\u001b[0m\u001b[0m\n\u001b[1;32m    215\u001b[0m                            \u001b[0mobj\u001b[0m\u001b[0;34m=\u001b[0m\u001b[0mobj\u001b[0m\u001b[0;34m,\u001b[0m \u001b[0mfeval\u001b[0m\u001b[0;34m=\u001b[0m\u001b[0mfeval\u001b[0m\u001b[0;34m,\u001b[0m\u001b[0;34m\u001b[0m\u001b[0;34m\u001b[0m\u001b[0m\n\u001b[0;32m--> 216\u001b[0;31m                            xgb_model=xgb_model, callbacks=callbacks)\n\u001b[0m\u001b[1;32m    217\u001b[0m \u001b[0;34m\u001b[0m\u001b[0m\n\u001b[1;32m    218\u001b[0m \u001b[0;34m\u001b[0m\u001b[0m\n",
            "\u001b[0;32m/usr/local/lib/python3.7/dist-packages/xgboost/training.py\u001b[0m in \u001b[0;36m_train_internal\u001b[0;34m(params, dtrain, num_boost_round, evals, obj, feval, xgb_model, callbacks)\u001b[0m\n\u001b[1;32m     72\u001b[0m         \u001b[0;31m# Skip the first update if it is a recovery step.\u001b[0m\u001b[0;34m\u001b[0m\u001b[0;34m\u001b[0m\u001b[0;34m\u001b[0m\u001b[0m\n\u001b[1;32m     73\u001b[0m         \u001b[0;32mif\u001b[0m \u001b[0mversion\u001b[0m \u001b[0;34m%\u001b[0m \u001b[0;36m2\u001b[0m \u001b[0;34m==\u001b[0m \u001b[0;36m0\u001b[0m\u001b[0;34m:\u001b[0m\u001b[0;34m\u001b[0m\u001b[0;34m\u001b[0m\u001b[0m\n\u001b[0;32m---> 74\u001b[0;31m             \u001b[0mbst\u001b[0m\u001b[0;34m.\u001b[0m\u001b[0mupdate\u001b[0m\u001b[0;34m(\u001b[0m\u001b[0mdtrain\u001b[0m\u001b[0;34m,\u001b[0m \u001b[0mi\u001b[0m\u001b[0;34m,\u001b[0m \u001b[0mobj\u001b[0m\u001b[0;34m)\u001b[0m\u001b[0;34m\u001b[0m\u001b[0;34m\u001b[0m\u001b[0m\n\u001b[0m\u001b[1;32m     75\u001b[0m             \u001b[0mbst\u001b[0m\u001b[0;34m.\u001b[0m\u001b[0msave_rabit_checkpoint\u001b[0m\u001b[0;34m(\u001b[0m\u001b[0;34m)\u001b[0m\u001b[0;34m\u001b[0m\u001b[0;34m\u001b[0m\u001b[0m\n\u001b[1;32m     76\u001b[0m             \u001b[0mversion\u001b[0m \u001b[0;34m+=\u001b[0m \u001b[0;36m1\u001b[0m\u001b[0;34m\u001b[0m\u001b[0;34m\u001b[0m\u001b[0m\n",
            "\u001b[0;32m/usr/local/lib/python3.7/dist-packages/xgboost/core.py\u001b[0m in \u001b[0;36mupdate\u001b[0;34m(self, dtrain, iteration, fobj)\u001b[0m\n\u001b[1;32m   1107\u001b[0m         \u001b[0;32mif\u001b[0m \u001b[0mfobj\u001b[0m \u001b[0;32mis\u001b[0m \u001b[0;32mNone\u001b[0m\u001b[0;34m:\u001b[0m\u001b[0;34m\u001b[0m\u001b[0;34m\u001b[0m\u001b[0m\n\u001b[1;32m   1108\u001b[0m             _check_call(_LIB.XGBoosterUpdateOneIter(self.handle, ctypes.c_int(iteration),\n\u001b[0;32m-> 1109\u001b[0;31m                                                     dtrain.handle))\n\u001b[0m\u001b[1;32m   1110\u001b[0m         \u001b[0;32melse\u001b[0m\u001b[0;34m:\u001b[0m\u001b[0;34m\u001b[0m\u001b[0;34m\u001b[0m\u001b[0m\n\u001b[1;32m   1111\u001b[0m             \u001b[0mpred\u001b[0m \u001b[0;34m=\u001b[0m \u001b[0mself\u001b[0m\u001b[0;34m.\u001b[0m\u001b[0mpredict\u001b[0m\u001b[0;34m(\u001b[0m\u001b[0mdtrain\u001b[0m\u001b[0;34m)\u001b[0m\u001b[0;34m\u001b[0m\u001b[0;34m\u001b[0m\u001b[0m\n",
            "\u001b[0;31mKeyboardInterrupt\u001b[0m: "
          ]
        }
      ]
    },
    {
      "cell_type": "code",
      "source": [
        "\n",
        "# make predictions for test data\n",
        "y_pred = model.predict(X_test)\n",
        "predictions = [round(value) for value in y_pred]\n",
        "# evaluate predictions\n",
        "accuracy = accuracy_score(y_test, predictions)\n",
        "print(\"Accuracy: %.2f%%\" % (accuracy * 100.0))\n",
        "print('\\n\\n\\n')\n",
        "# retrieve performance metrics\n",
        "results = model.evals_result()\n",
        "epochs = len(results['validation_0']['logloss'])\n",
        "x_axis = range(0, epochs)\n",
        "# plot log loss\n",
        "fig, ax = plt.subplots()\n",
        "ax.plot(x_axis, results['validation_0']['logloss'], label='Train')\n",
        "ax.plot(x_axis, results['validation_1']['logloss'], label='Test')\n",
        "ax.legend()\n",
        "plt.ylabel('Log Loss')\n",
        "plt.title('XGBoost Log Loss')\n",
        "plt.show()"
      ],
      "metadata": {
        "id": "h1SovKwlnyVZ",
        "outputId": "0fab2db0-fa34-4ac9-b022-d716c5f7f7c2",
        "colab": {
          "base_uri": "https://localhost:8080/",
          "height": 444
        }
      },
      "execution_count": 17,
      "outputs": [
        {
          "output_type": "stream",
          "name": "stdout",
          "text": [
            "Accuracy: 97.65%\n",
            "\n",
            "\n",
            "\n",
            "\n"
          ]
        },
        {
          "output_type": "error",
          "ename": "AttributeError",
          "evalue": "ignored",
          "traceback": [
            "\u001b[0;31m---------------------------------------------------------------------------\u001b[0m",
            "\u001b[0;31mAttributeError\u001b[0m                            Traceback (most recent call last)",
            "\u001b[0;32m<ipython-input-17-227f47847ba6>\u001b[0m in \u001b[0;36m<module>\u001b[0;34m\u001b[0m\n\u001b[1;32m      7\u001b[0m \u001b[0mprint\u001b[0m\u001b[0;34m(\u001b[0m\u001b[0;34m'\\n\\n\\n'\u001b[0m\u001b[0;34m)\u001b[0m\u001b[0;34m\u001b[0m\u001b[0;34m\u001b[0m\u001b[0m\n\u001b[1;32m      8\u001b[0m \u001b[0;31m# retrieve performance metrics\u001b[0m\u001b[0;34m\u001b[0m\u001b[0;34m\u001b[0m\u001b[0;34m\u001b[0m\u001b[0m\n\u001b[0;32m----> 9\u001b[0;31m \u001b[0mresults\u001b[0m \u001b[0;34m=\u001b[0m \u001b[0mmodel\u001b[0m\u001b[0;34m.\u001b[0m\u001b[0mevals_result\u001b[0m\u001b[0;34m(\u001b[0m\u001b[0;34m)\u001b[0m\u001b[0;34m\u001b[0m\u001b[0;34m\u001b[0m\u001b[0m\n\u001b[0m\u001b[1;32m     10\u001b[0m \u001b[0mepochs\u001b[0m \u001b[0;34m=\u001b[0m \u001b[0mlen\u001b[0m\u001b[0;34m(\u001b[0m\u001b[0mresults\u001b[0m\u001b[0;34m[\u001b[0m\u001b[0;34m'validation_0'\u001b[0m\u001b[0;34m]\u001b[0m\u001b[0;34m[\u001b[0m\u001b[0;34m'logloss'\u001b[0m\u001b[0;34m]\u001b[0m\u001b[0;34m)\u001b[0m\u001b[0;34m\u001b[0m\u001b[0;34m\u001b[0m\u001b[0m\n\u001b[1;32m     11\u001b[0m \u001b[0mx_axis\u001b[0m \u001b[0;34m=\u001b[0m \u001b[0mrange\u001b[0m\u001b[0;34m(\u001b[0m\u001b[0;36m0\u001b[0m\u001b[0;34m,\u001b[0m \u001b[0mepochs\u001b[0m\u001b[0;34m)\u001b[0m\u001b[0;34m\u001b[0m\u001b[0;34m\u001b[0m\u001b[0m\n",
            "\u001b[0;32m/usr/local/lib/python3.7/dist-packages/xgboost/sklearn.py\u001b[0m in \u001b[0;36mevals_result\u001b[0;34m(self)\u001b[0m\n\u001b[1;32m    874\u001b[0m             'validation_1': {'logloss': ['0.41965', '0.17686']}}\n\u001b[1;32m    875\u001b[0m         \"\"\"\n\u001b[0;32m--> 876\u001b[0;31m         \u001b[0;32mif\u001b[0m \u001b[0mself\u001b[0m\u001b[0;34m.\u001b[0m\u001b[0mevals_result_\u001b[0m\u001b[0;34m:\u001b[0m\u001b[0;34m\u001b[0m\u001b[0;34m\u001b[0m\u001b[0m\n\u001b[0m\u001b[1;32m    877\u001b[0m             \u001b[0mevals_result\u001b[0m \u001b[0;34m=\u001b[0m \u001b[0mself\u001b[0m\u001b[0;34m.\u001b[0m\u001b[0mevals_result_\u001b[0m\u001b[0;34m\u001b[0m\u001b[0;34m\u001b[0m\u001b[0m\n\u001b[1;32m    878\u001b[0m         \u001b[0;32melse\u001b[0m\u001b[0;34m:\u001b[0m\u001b[0;34m\u001b[0m\u001b[0;34m\u001b[0m\u001b[0m\n",
            "\u001b[0;31mAttributeError\u001b[0m: 'XGBClassifier' object has no attribute 'evals_result_'"
          ]
        }
      ]
    },
    {
      "cell_type": "code",
      "source": [
        "r = metrics.classification_report(y_test, predictions)\n",
        "print(r)"
      ],
      "metadata": {
        "id": "x2xEeckZtC-n"
      },
      "execution_count": null,
      "outputs": []
    },
    {
      "cell_type": "markdown",
      "source": [
        "#### LightGBM\n"
      ],
      "metadata": {
        "id": "hn8T33Stvl2H"
      }
    },
    {
      "cell_type": "code",
      "source": [
        "from typing import Generator\n",
        "train_size = 0.7\n",
        "validation_size = 0.2\n",
        "test_size = 0.1\n",
        "\n",
        "# train dataset\n",
        "train_gf= gf.sample(frac=train_size,random_state=200) #random state is a seed value\n",
        "temp= gf.drop(train_gf.index)\n",
        "# validation dataset\n",
        "val_gf = temp.sample(frac=validation_size/(1-train_size),random_state=201)\n",
        "# test dataset\n",
        "test_gf = temp.drop(val_gf.index)\n",
        "\n",
        "\n",
        "print(\"train size: \", len(train_gf))\n",
        "print(\"valid size: \", len(val_gf))\n",
        "print(\"test size : \", len(test_gf))\n",
        "\n",
        "target = 'Sale'\n",
        "predictors = list(gf.columns)\n",
        "predictors.remove('Sale')\n",
        "categorical = list(gf.select_dtypes('object').columns)"
      ],
      "metadata": {
        "id": "r_qC09sRvou0"
      },
      "execution_count": null,
      "outputs": []
    },
    {
      "cell_type": "code",
      "source": [
        "import lightgbm as lgb\n",
        "\n",
        "def lgb_modelfit_nocv(params, dtrain, dvalid, predictors, target='target', objective='binary', metrics='auc',\n",
        "                 feval=None, early_stopping_rounds=20, num_boost_round=3000, verbose_eval=10, categorical_features=None):\n",
        "    lgb_params = {\n",
        "        'boosting_type': 'gbdt',\n",
        "        'objective': objective,\n",
        "        'metric':metrics,\n",
        "        'learning_rate': 0.01,\n",
        "        'num_leaves': 31,  # we should let it be smaller than 2^(max_depth)\n",
        "        'max_depth': -1,  # -1 means no limit\n",
        "        'min_child_samples': 20,  # Minimum number of data need in a child(min_data_in_leaf)\n",
        "        'max_bin': 255,  # Number of bucketed bin for feature values\n",
        "        'subsample': 0.6,  # Subsample ratio of the training instance.\n",
        "        'subsample_freq': 0,  # frequence of subsample, <=0 means no enable\n",
        "        'colsample_bytree': 0.3,  # Subsample ratio of columns when constructing each tree.\n",
        "        'min_child_weight': 5,  # Minimum sum of instance weight(hessian) needed in a child(leaf)\n",
        "        'subsample_for_bin': 200000,  # Number of samples for constructing bin\n",
        "        'min_split_gain': 0,  # lambda_l1, lambda_l2 and min_gain_to_split to regularization\n",
        "        'reg_alpha': 0,  # L1 regularization term on weights\n",
        "        'reg_lambda': 0,  # L2 regularization term on weights\n",
        "        'nthread': 8,\n",
        "        'verbose': 0,\n",
        "        'metric':metrics\n",
        "    }\n",
        "\n",
        "    lgb_params.update(params)\n",
        "\n",
        "    print(\"preparing validation datasets\")\n",
        "\n",
        "    xgtrain = lgb.Dataset(dtrain[predictors].values, label=dtrain[target].values,\n",
        "                          feature_name=predictors,\n",
        "                          categorical_feature=categorical_features\n",
        "                          )\n",
        "    xgvalid = lgb.Dataset(dvalid[predictors].values, label=dvalid[target].values,\n",
        "                          feature_name=predictors,\n",
        "                          categorical_feature=categorical_features\n",
        "                          )\n",
        "    \n",
        "    evals_results = {}\n",
        "\n",
        "    bst1 = lgb.train(lgb_params, \n",
        "                     xgtrain, \n",
        "                     valid_sets=[xgtrain, xgvalid], \n",
        "                     valid_names=['train','valid'], \n",
        "                     evals_result=evals_results, \n",
        "                     num_boost_round=num_boost_round,\n",
        "                     early_stopping_rounds=early_stopping_rounds,\n",
        "                     verbose_eval=10, \n",
        "                     feval=feval)\n",
        "\n",
        "    n_estimators = bst1.best_iteration\n",
        "    print(\"\\nModel Report\")\n",
        "    print(\"n_estimators : \", n_estimators)\n",
        "    print(metrics+\":\", evals_results['valid'][metrics][n_estimators-1])\n",
        "\n",
        "    return bst1"
      ],
      "metadata": {
        "id": "HEp4dlVXv8Dr"
      },
      "execution_count": 24,
      "outputs": []
    },
    {
      "cell_type": "code",
      "source": [
        "print(\"Training...\")\n",
        "params = {\n",
        "    'learning_rate': 0.1,\n",
        "    'num_leaves': 7,  # we should let it be smaller than 2^(max_depth)\n",
        "    'max_depth': 3,  # -1 means no limit\n",
        "    'min_child_samples': 100,  # Minimum number of data need in a child(min_data_in_leaf)\n",
        "    'max_bin': 100,  # Number of bucketed bin for feature values\n",
        "    'subsample': 0.7,  # Subsample ratio of the training instance.\n",
        "    'subsample_freq': 1,  # frequence of subsample, <=0 means no enable\n",
        "    'colsample_bytree': 0.7,  # Subsample ratio of columns when constructing each tree.\n",
        "    'min_child_weight': 0,  # Minimum sum of instance weight(hessian) needed in a child(leaf)\n",
        "    'scale_pos_weight':99 # because training data is extremely unbalanced \n",
        "}\n",
        "bst = lgb_modelfit_nocv(params, \n",
        "                        # train_gf,\n",
        "                        # val_gf,\n",
        "                        # predictors, \n",
        "                        # target, \n",
        "                        # objective='binary', \n",
        "                        metrics='auc',\n",
        "                        # early_stopping_rounds=100, \n",
        "                        # verbose_eval=True, \n",
        "                        num_boost_round=300, \n",
        "                        # categorical_features=categorical\n",
        "                        )"
      ],
      "metadata": {
        "id": "y2e0ZQOJwzYb",
        "outputId": "1c4062ee-83d3-4d46-c985-7b75d14ef653",
        "colab": {
          "base_uri": "https://localhost:8080/"
        }
      },
      "execution_count": 27,
      "outputs": [
        {
          "output_type": "stream",
          "name": "stdout",
          "text": [
            "Training...\n",
            "preparing validation datasets\n",
            "\n",
            "Model Report\n",
            "n_estimators :  0\n"
          ]
        }
      ]
    },
    {
      "cell_type": "code",
      "source": [
        "# make predictions for test data\n",
        "y_pred = bst.predict(test_gf[predictors])\n",
        "predictions = [round(value) for value in y_pred]\n",
        "# evaluate predictions\n",
        "accuracy = accuracy_score(test_gf['Sale'].values, predictions)\n",
        "print(\"Accuracy: %.2f%%\" % (accuracy * 100.0))\n",
        "print('\\n\\n\\n')"
      ],
      "metadata": {
        "id": "MDTpD_wlxzwa",
        "outputId": "8c9004c0-732b-4dee-c9e5-a8fcdf8fb2fc",
        "colab": {
          "base_uri": "https://localhost:8080/",
          "height": 235
        }
      },
      "execution_count": 28,
      "outputs": [
        {
          "output_type": "error",
          "ename": "NameError",
          "evalue": "ignored",
          "traceback": [
            "\u001b[0;31m---------------------------------------------------------------------------\u001b[0m",
            "\u001b[0;31mNameError\u001b[0m                                 Traceback (most recent call last)",
            "\u001b[0;32m<ipython-input-28-fd3645a5d17a>\u001b[0m in \u001b[0;36m<module>\u001b[0;34m\u001b[0m\n\u001b[1;32m      1\u001b[0m \u001b[0;31m# make predictions for test data\u001b[0m\u001b[0;34m\u001b[0m\u001b[0;34m\u001b[0m\u001b[0;34m\u001b[0m\u001b[0m\n\u001b[0;32m----> 2\u001b[0;31m \u001b[0my_pred\u001b[0m \u001b[0;34m=\u001b[0m \u001b[0mbst\u001b[0m\u001b[0;34m.\u001b[0m\u001b[0mpredict\u001b[0m\u001b[0;34m(\u001b[0m\u001b[0mtest_gf\u001b[0m\u001b[0;34m[\u001b[0m\u001b[0mpredictors\u001b[0m\u001b[0;34m]\u001b[0m\u001b[0;34m)\u001b[0m\u001b[0;34m\u001b[0m\u001b[0;34m\u001b[0m\u001b[0m\n\u001b[0m\u001b[1;32m      3\u001b[0m \u001b[0mpredictions\u001b[0m \u001b[0;34m=\u001b[0m \u001b[0;34m[\u001b[0m\u001b[0mround\u001b[0m\u001b[0;34m(\u001b[0m\u001b[0mvalue\u001b[0m\u001b[0;34m)\u001b[0m \u001b[0;32mfor\u001b[0m \u001b[0mvalue\u001b[0m \u001b[0;32min\u001b[0m \u001b[0my_pred\u001b[0m\u001b[0;34m]\u001b[0m\u001b[0;34m\u001b[0m\u001b[0;34m\u001b[0m\u001b[0m\n\u001b[1;32m      4\u001b[0m \u001b[0;31m# evaluate predictions\u001b[0m\u001b[0;34m\u001b[0m\u001b[0;34m\u001b[0m\u001b[0;34m\u001b[0m\u001b[0m\n\u001b[1;32m      5\u001b[0m \u001b[0maccuracy\u001b[0m \u001b[0;34m=\u001b[0m \u001b[0maccuracy_score\u001b[0m\u001b[0;34m(\u001b[0m\u001b[0mtest_gf\u001b[0m\u001b[0;34m[\u001b[0m\u001b[0;34m'Sale'\u001b[0m\u001b[0;34m]\u001b[0m\u001b[0;34m.\u001b[0m\u001b[0mvalues\u001b[0m\u001b[0;34m,\u001b[0m \u001b[0mpredictions\u001b[0m\u001b[0;34m)\u001b[0m\u001b[0;34m\u001b[0m\u001b[0;34m\u001b[0m\u001b[0m\n",
            "\u001b[0;31mNameError\u001b[0m: name 'test_gf' is not defined"
          ]
        }
      ]
    },
    {
      "cell_type": "code",
      "source": [
        "import numpy as np \n",
        "import lightgbm as lgb\n",
        "\n",
        "data = X_train\n",
        "label = y_train\n",
        "train_data = lgb.Dataset(data, label=label, free_raw_data=False)\n",
        "params = {\n",
        "    'learning_rate': 0.01,\n",
        "    'num_leaves': 31,  # we should let it be smaller than 2^(max_depth)\n",
        "    'max_depth': 3,  # -1 means no limit\n",
        "    'min_child_samples': 100,  # Minimum number of data need in a child(min_data_in_leaf)\n",
        "    'max_bin': 225,  # Number of bucketed bin for feature values\n",
        "    'subsample': 0.7,  # Subsample ratio of the training instance.\n",
        "    'subsample_freq': 0,  # frequence of subsample, <=0 means no enable\n",
        "    'colsample_bytree': 0.3,  # Subsample ratio of columns when constructing each tree.\n",
        "    'min_child_weight': 5,  # Minimum sum of instance weight(hessian) needed in a child(leaf)\n",
        "    'scale_pos_weight':99, # because training data is extremely unbalanced \n",
        "    'boosting_type': 'gbdt',\n",
        "         'metrics' : 'auc',\n",
        "        'subsample_for_bin': 200000,  # Number of samples for constructing bin\n",
        "        'min_split_gain': 0,  # lambda_l1, lambda_l2 and min_gain_to_split to regularization\n",
        "        'reg_alpha': 0,  # L1 regularization term on weights\n",
        "        'reg_lambda': 0,  # L2 regularization term on weights\n",
        "        'nthread': 8,\n",
        "        'verbose': 0,\n",
        "}\n",
        "gbm_2 = lgb.train(params, train_data, num_boost_round = 300,verbose_eval=10,early_stopping_rounds=100\n",
        "                init_model = gbm_init)\n",
        "print(\"Option 2 current iter# %d\" %gbm_2.current_iteration())"
      ],
      "metadata": {
        "id": "9lcspER2yYov",
        "outputId": "db604ae8-98aa-4905-a9b4-f6e92ff307c9",
        "colab": {
          "base_uri": "https://localhost:8080/"
        }
      },
      "execution_count": 40,
      "outputs": [
        {
          "output_type": "stream",
          "name": "stdout",
          "text": [
            "Option 2 current iter# 20\n"
          ]
        }
      ]
    },
    {
      "cell_type": "code",
      "source": [
        "y_pred = bst.predict(X_test)"
      ],
      "metadata": {
        "id": "NO8KEFrryxRw"
      },
      "execution_count": 41,
      "outputs": []
    },
    {
      "cell_type": "code",
      "source": [
        "predictions = [round(value) for value in y_pred]"
      ],
      "metadata": {
        "id": "4LgkSBKazJtO"
      },
      "execution_count": 42,
      "outputs": []
    },
    {
      "cell_type": "code",
      "source": [
        "r = metrics.classification_report(y_test,predictions)\n",
        "print(r)"
      ],
      "metadata": {
        "id": "4JnYVHqXzDQu",
        "outputId": "c82e3312-3bc6-4ef2-a111-1a170cf88871",
        "colab": {
          "base_uri": "https://localhost:8080/"
        }
      },
      "execution_count": 43,
      "outputs": [
        {
          "output_type": "stream",
          "name": "stdout",
          "text": [
            "              precision    recall  f1-score   support\n",
            "\n",
            "          -2       0.00      0.00      0.00         0\n",
            "          -1       0.00      0.00      0.00         0\n",
            "           0       0.93      0.41      0.57      1366\n",
            "           1       0.66      0.67      0.67      1531\n",
            "           2       0.46      0.40      0.43      1422\n",
            "           3       0.41      0.40      0.40      1402\n",
            "           4       0.29      0.36      0.32      1353\n",
            "           5       0.28      0.46      0.35      1297\n",
            "           6       0.39      0.53      0.45      1426\n",
            "           7       0.45      0.46      0.46      1474\n",
            "           8       0.26      0.25      0.26      1355\n",
            "           9       0.78      0.29      0.42      1374\n",
            "          10       0.00      0.00      0.00         0\n",
            "\n",
            "    accuracy                           0.43     14000\n",
            "   macro avg       0.38      0.33      0.33     14000\n",
            "weighted avg       0.49      0.43      0.44     14000\n",
            "\n"
          ]
        }
      ]
    },
    {
      "cell_type": "markdown",
      "metadata": {
        "id": "1Yhlp0fxIENm"
      },
      "source": [
        "## tuning hyperparameters"
      ]
    },
    {
      "cell_type": "markdown",
      "source": [
        "### knn"
      ],
      "metadata": {
        "id": "8Bs-FGNQIENn"
      }
    },
    {
      "cell_type": "code",
      "source": [
        "knn = KNeighborsClassifier()\n",
        "param_grid = {\n",
        "    'n_neighbors': [2,3,4, 5, 7, 10, 20, 50]\n",
        "}\n",
        "best_knn = tuning(knn,param_grid)\n",
        "training(best_knn)"
      ],
      "metadata": {
        "colab": {
          "base_uri": "https://localhost:8080/",
          "height": 609
        },
        "outputId": "9bba0edb-c6f3-4bba-f4c6-10c5b83004a4",
        "id": "DlxTs8B0IENn"
      },
      "execution_count": null,
      "outputs": [
        {
          "output_type": "stream",
          "name": "stdout",
          "text": [
            "hyperparameters of model : ['algorithm', 'leaf_size', 'metric', 'metric_params', 'n_jobs', 'n_neighbors', 'p', 'weights']\n",
            "Best: 0.929167 using {'n_neighbors': 5}\n",
            "Classification report for classifier KNeighborsClassifier():\n",
            "              precision    recall  f1-score   support\n",
            "\n",
            "          -1       0.96      0.92      0.94        25\n",
            "           1       0.88      0.93      0.90        15\n",
            "\n",
            "    accuracy                           0.93        40\n",
            "   macro avg       0.92      0.93      0.92        40\n",
            "weighted avg       0.93      0.93      0.93        40\n",
            "\n",
            "\n"
          ]
        },
        {
          "output_type": "display_data",
          "data": {
            "text/plain": [
              "<Figure size 432x288 with 2 Axes>"
            ],
            "image/png": "[encoded data removed]"
          },
          "metadata": {}
        },
        {
          "output_type": "stream",
          "name": "stdout",
          "text": [
            "\n",
            "\n",
            "\n",
            "\n"
          ]
        }
      ]
    },
    {
      "cell_type": "markdown",
      "source": [
        "### AdaBoost"
      ],
      "metadata": {
        "id": "iAONeL_aI4zz"
      }
    },
    {
      "cell_type": "code",
      "source": [
        "adaboost = AdaBoostClassifier()\n",
        "  # define the grid of hyperparameters to search\n",
        "param_grid = {\n",
        "    'n_estimators' : [10, 50, 100, 500],\n",
        "    'learning_rate' : [0.0001, 0.001, 0.01, 0.1, 1.0],\n",
        "    'base_estimator' : [DecisionTreeClassifier(max_depth=i) for i in range(1,5)]\n",
        "}\n",
        "best_adaboost = tuning(adaboost,param_grid)\n",
        "training(best_adaboost)"
      ],
      "metadata": {
        "id": "fMC5HAKoI3-Z"
      },
      "execution_count": null,
      "outputs": []
    }
  ],
  "metadata": {
    "colab": {
      "provenance": [],
      "toc_visible": true
    },
    "kernelspec": {
      "display_name": "Python 3 (ipykernel)",
      "language": "python",
      "name": "python3"
    },
    "language_info": {
      "codemirror_mode": {
        "name": "ipython",
        "version": 3
      },
      "file_extension": ".py",
      "mimetype": "text/x-python",
      "name": "python",
      "nbconvert_exporter": "python",
      "pygments_lexer": "ipython3",
      "version": "3.9.12"
    },
    "nbTranslate": {
      "displayLangs": [
        "persian",
        "en"
      ],
      "hotkey": "alt-t",
      "langInMainMenu": true,
      "sourceLang": "en",
      "targetLang": "persian",
      "useGoogleTranslate": true
    },
    "toc": {
      "base_numbering": 1,
      "nav_menu": {},
      "number_sections": true,
      "sideBar": true,
      "skip_h1_title": false,
      "title_cell": "Table of Contents",
      "title_sidebar": "Contents",
      "toc_cell": false,
      "toc_position": {},
      "toc_section_display": true,
      "toc_window_display": false
    },
    "varInspector": {
      "cols": {
        "lenName": 16,
        "lenType": 16,
        "lenVar": 40
      },
      "kernels_config": {
        "python": {
          "delete_cmd_postfix": "",
          "delete_cmd_prefix": "del ",
          "library": "var_list.py",
          "varRefreshCmd": "print(var_dic_list())"
        },
        "r": {
          "delete_cmd_postfix": ") ",
          "delete_cmd_prefix": "rm(",
          "library": "var_list.r",
          "varRefreshCmd": "cat(var_dic_list()) "
        }
      },
      "types_to_exclude": [
        "module",
        "function",
        "builtin_function_or_method",
        "instance",
        "_Feature"
      ],
      "window_display": false
    },
    "accelerator": "GPU",
    "gpuClass": "standard"
  },
  "nbformat": 4,
  "nbformat_minor": 0
}