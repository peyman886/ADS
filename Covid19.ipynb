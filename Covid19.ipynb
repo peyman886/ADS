{
  "cells": [
    {
      "cell_type": "markdown",
      "id": "3de11907",
      "metadata": {
        "id": "3de11907"
      },
      "source": [
        "# Import Package"
      ]
    },
    {
      "cell_type": "code",
      "execution_count": 1,
      "id": "63d06a40",
      "metadata": {
        "scrolled": true,
        "id": "63d06a40"
      },
      "outputs": [],
      "source": [
        "import pandas as pd\n",
        "import numpy as np\n",
        "from datetime import datetime\n",
        "from sklearn.model_selection import train_test_split\n",
        "from sklearn.model_selection import GridSearchCV\n",
        "from sklearn.neural_network import MLPRegressor\n",
        "from sklearn import metrics\n",
        "from sklearn.metrics import r2_score\n",
        "\n",
        "# from sklearn.externals import joblib\n",
        "import joblib\n",
        "\n",
        "import pickle\n",
        "import uuid\n",
        "\n"
      ]
    },
    {
      "cell_type": "markdown",
      "source": [
        "# Data"
      ],
      "metadata": {
        "id": "ZmWLj1go5RTM"
      },
      "id": "ZmWLj1go5RTM"
    },
    {
      "cell_type": "markdown",
      "source": [
        "## Download Data"
      ],
      "metadata": {
        "id": "M0UzIYa67tMb"
      },
      "id": "M0UzIYa67tMb"
    },
    {
      "cell_type": "code",
      "source": [
        "import os.path\n",
        "if not os.path.isfile('Covid_Data.zip'):\n",
        "  !gdown --id 1oPQDuqWnH9v72qJiiyqI5LXhdV0yGaPE\n",
        "  !unzip 'Covid_Data.zip'\n"
      ],
      "metadata": {
        "id": "bettUWyQ5QRb",
        "outputId": "7f8d4d4b-ac45-4d80-923f-87ac0487cf53",
        "colab": {
          "base_uri": "https://localhost:8080/"
        }
      },
      "id": "bettUWyQ5QRb",
      "execution_count": 2,
      "outputs": [
        {
          "output_type": "stream",
          "name": "stdout",
          "text": [
            "/usr/local/lib/python3.8/dist-packages/gdown/cli.py:127: FutureWarning: Option `--id` was deprecated in version 4.3.1 and will be removed in 5.0. You don't need to pass it anymore to use a file ID.\n",
            "  warnings.warn(\n",
            "Downloading...\n",
            "From: https://drive.google.com/uc?id=1oPQDuqWnH9v72qJiiyqI5LXhdV0yGaPE\n",
            "To: /content/Covid_Data.zip\n",
            "100% 30.3k/30.3k [00:00<00:00, 26.8MB/s]\n",
            "Archive:  Covid_Data.zip\n",
            "   creating: Input Data/\n",
            "  inflating: Input Data/time_series_19-covid-Confirmed.csv  \n",
            "  inflating: Input Data/time_series_19-covid-Deaths.csv  \n",
            "  inflating: Input Data/time_series_19-covid-Recovered.csv  \n"
          ]
        }
      ]
    },
    {
      "cell_type": "code",
      "execution_count": 3,
      "id": "aa7b3676",
      "metadata": {
        "colab": {
          "base_uri": "https://localhost:8080/"
        },
        "id": "aa7b3676",
        "outputId": "1105c3e6-ddf8-41c2-b52d-482bbf4abad1"
      },
      "outputs": [
        {
          "output_type": "stream",
          "name": "stdout",
          "text": [
            "<zip object at 0x7fbd55221040>\n"
          ]
        }
      ],
      "source": [
        "descriptor = (\"d\", \"r\", \"c\")\n",
        "filenames = [r'time_series_19-covid-Deaths.csv',\n",
        "             r'time_series_19-covid-Recovered.csv',\n",
        "             r'time_series_19-covid-Confirmed.csv']\n",
        "\n",
        "print(zip(descriptor, filenames))\n",
        "\n"
      ]
    },
    {
      "cell_type": "markdown",
      "source": [
        "## Load Data & Feature Enginering;dgk"
      ],
      "metadata": {
        "id": "JUltMMXz7l2b"
      },
      "id": "JUltMMXz7l2b"
    },
    {
      "cell_type": "code",
      "source": [
        "dfs = []\n",
        "DATAs = []\n",
        "for descriptor_, fname in zip(descriptor, filenames):\n",
        "    print(\"Working on:\",'Input Data/'+ fname)\n",
        "    df = pd.read_csv('Input Data/'+ fname)\n",
        "    df.drop(columns=[\"Province/State\",\"Country/Region\"], inplace=True)\n",
        "    DATA = np.array((0,0,0,0))\n",
        "\n",
        "    \n",
        "    for i, j in df.iterrows():\n",
        "        # print(i, j)\n",
        "        latitude = j['Lat']\n",
        "        longitude = j['Long']\n",
        "        \n",
        "        for k,l in j.iteritems():\n",
        "            if k=='Lat':\n",
        "                continue\n",
        "            if k=='Long':\n",
        "                continue\n",
        "            date = datetime.strptime(k, '%m/%d/%y')\n",
        "            day = date - date.strptime(\"01/22/20\", '%m/%d/%y')\n",
        "            days = day.days\n",
        "            #print(days)\n",
        "            temp = np.array([j[\"Lat\"], j['Long'], days, l])\n",
        "            #print(temp)\n",
        "            DATA = np.vstack((DATA,temp))  \n",
        "            \n",
        "    DATA = np.delete(DATA, 0,0)\n",
        "    np.random.shuffle(DATA)\n",
        "    \n",
        "    dfs.append(df)\n",
        "    DATAs.append(DATA)\n"
      ],
      "metadata": {
        "id": "MnklT68z6064",
        "outputId": "d610cb5e-782d-46e8-a946-9da9128965d0",
        "colab": {
          "base_uri": "https://localhost:8080/"
        }
      },
      "id": "MnklT68z6064",
      "execution_count": 4,
      "outputs": [
        {
          "output_type": "stream",
          "name": "stdout",
          "text": [
            "Working on: Input Data/time_series_19-covid-Deaths.csv\n",
            "Working on: Input Data/time_series_19-covid-Recovered.csv\n",
            "Working on: Input Data/time_series_19-covid-Confirmed.csv\n"
          ]
        }
      ]
    },
    {
      "cell_type": "code",
      "source": [
        "dfs[0]"
      ],
      "metadata": {
        "id": "xDxAC4CS7X_U",
        "outputId": "29e58318-7c48-4ae0-d382-cf6d01133b4c",
        "colab": {
          "base_uri": "https://localhost:8080/",
          "height": 0
        }
      },
      "id": "xDxAC4CS7X_U",
      "execution_count": 5,
      "outputs": [
        {
          "output_type": "execute_result",
          "data": {
            "text/plain": [
              "         Lat      Long  1/22/20  1/23/20  1/24/20  1/25/20  1/26/20  1/27/20  \\\n",
              "0    15.0000  101.0000        0        0        0        0        0        0   \n",
              "1    36.0000  138.0000        0        0        0        0        0        0   \n",
              "2     1.2833  103.8333        0        0        0        0        0        0   \n",
              "3    28.1667   84.2500        0        0        0        0        0        0   \n",
              "4     2.5000  112.5000        0        0        0        0        0        0   \n",
              "..       ...       ...      ...      ...      ...      ...      ...      ...   \n",
              "401  42.5922  -83.3362        0        0        0        0        0        0   \n",
              "402  42.2791  -83.3362        0        0        0        0        0        0   \n",
              "403  39.5393  -75.6674        0        0        0        0        0        0   \n",
              "404  22.0000  -80.0000        0        0        0        0        0        0   \n",
              "405   5.0000  -58.7500        0        0        0        0        0        0   \n",
              "\n",
              "     1/28/20  1/29/20  ...  3/3/20  3/4/20  3/5/20  3/6/20  3/7/20  3/8/20  \\\n",
              "0          0        0  ...       1       1       1       1       1       1   \n",
              "1          0        0  ...       6       6       6       6       6       6   \n",
              "2          0        0  ...       0       0       0       0       0       0   \n",
              "3          0        0  ...       0       0       0       0       0       0   \n",
              "4          0        0  ...       0       0       0       0       0       0   \n",
              "..       ...      ...  ...     ...     ...     ...     ...     ...     ...   \n",
              "401        0        0  ...       0       0       0       0       0       0   \n",
              "402        0        0  ...       0       0       0       0       0       0   \n",
              "403        0        0  ...       0       0       0       0       0       0   \n",
              "404        0        0  ...       0       0       0       0       0       0   \n",
              "405        0        0  ...       0       0       0       0       0       0   \n",
              "\n",
              "     3/9/20  3/10/20  3/11/20  3/12/20  \n",
              "0         1        1        1        1  \n",
              "1        10       10       15       16  \n",
              "2         0        0        0        0  \n",
              "3         0        0        0        0  \n",
              "4         0        0        0        0  \n",
              "..      ...      ...      ...      ...  \n",
              "401       0        0        0        0  \n",
              "402       0        0        0        0  \n",
              "403       0        0        0        0  \n",
              "404       0        0        0        0  \n",
              "405       0        0        0        1  \n",
              "\n",
              "[406 rows x 53 columns]"
            ],
            "text/html": [
              "\n",
              "  <div id=\"df-fa60441f-9e47-45a9-b89c-dc2925dd238e\">\n",
              "    <div class=\"colab-df-container\">\n",
              "      <div>\n",
              "<style scoped>\n",
              "    .dataframe tbody tr th:only-of-type {\n",
              "        vertical-align: middle;\n",
              "    }\n",
              "\n",
              "    .dataframe tbody tr th {\n",
              "        vertical-align: top;\n",
              "    }\n",
              "\n",
              "    .dataframe thead th {\n",
              "        text-align: right;\n",
              "    }\n",
              "</style>\n",
              "<table border=\"1\" class=\"dataframe\">\n",
              "  <thead>\n",
              "    <tr style=\"text-align: right;\">\n",
              "      <th></th>\n",
              "      <th>Lat</th>\n",
              "      <th>Long</th>\n",
              "      <th>1/22/20</th>\n",
              "      <th>1/23/20</th>\n",
              "      <th>1/24/20</th>\n",
              "      <th>1/25/20</th>\n",
              "      <th>1/26/20</th>\n",
              "      <th>1/27/20</th>\n",
              "      <th>1/28/20</th>\n",
              "      <th>1/29/20</th>\n",
              "      <th>...</th>\n",
              "      <th>3/3/20</th>\n",
              "      <th>3/4/20</th>\n",
              "      <th>3/5/20</th>\n",
              "      <th>3/6/20</th>\n",
              "      <th>3/7/20</th>\n",
              "      <th>3/8/20</th>\n",
              "      <th>3/9/20</th>\n",
              "      <th>3/10/20</th>\n",
              "      <th>3/11/20</th>\n",
              "      <th>3/12/20</th>\n",
              "    </tr>\n",
              "  </thead>\n",
              "  <tbody>\n",
              "    <tr>\n",
              "      <th>0</th>\n",
              "      <td>15.0000</td>\n",
              "      <td>101.0000</td>\n",
              "      <td>0</td>\n",
              "      <td>0</td>\n",
              "      <td>0</td>\n",
              "      <td>0</td>\n",
              "      <td>0</td>\n",
              "      <td>0</td>\n",
              "      <td>0</td>\n",
              "      <td>0</td>\n",
              "      <td>...</td>\n",
              "      <td>1</td>\n",
              "      <td>1</td>\n",
              "      <td>1</td>\n",
              "      <td>1</td>\n",
              "      <td>1</td>\n",
              "      <td>1</td>\n",
              "      <td>1</td>\n",
              "      <td>1</td>\n",
              "      <td>1</td>\n",
              "      <td>1</td>\n",
              "    </tr>\n",
              "    <tr>\n",
              "      <th>1</th>\n",
              "      <td>36.0000</td>\n",
              "      <td>138.0000</td>\n",
              "      <td>0</td>\n",
              "      <td>0</td>\n",
              "      <td>0</td>\n",
              "      <td>0</td>\n",
              "      <td>0</td>\n",
              "      <td>0</td>\n",
              "      <td>0</td>\n",
              "      <td>0</td>\n",
              "      <td>...</td>\n",
              "      <td>6</td>\n",
              "      <td>6</td>\n",
              "      <td>6</td>\n",
              "      <td>6</td>\n",
              "      <td>6</td>\n",
              "      <td>6</td>\n",
              "      <td>10</td>\n",
              "      <td>10</td>\n",
              "      <td>15</td>\n",
              "      <td>16</td>\n",
              "    </tr>\n",
              "    <tr>\n",
              "      <th>2</th>\n",
              "      <td>1.2833</td>\n",
              "      <td>103.8333</td>\n",
              "      <td>0</td>\n",
              "      <td>0</td>\n",
              "      <td>0</td>\n",
              "      <td>0</td>\n",
              "      <td>0</td>\n",
              "      <td>0</td>\n",
              "      <td>0</td>\n",
              "      <td>0</td>\n",
              "      <td>...</td>\n",
              "      <td>0</td>\n",
              "      <td>0</td>\n",
              "      <td>0</td>\n",
              "      <td>0</td>\n",
              "      <td>0</td>\n",
              "      <td>0</td>\n",
              "      <td>0</td>\n",
              "      <td>0</td>\n",
              "      <td>0</td>\n",
              "      <td>0</td>\n",
              "    </tr>\n",
              "    <tr>\n",
              "      <th>3</th>\n",
              "      <td>28.1667</td>\n",
              "      <td>84.2500</td>\n",
              "      <td>0</td>\n",
              "      <td>0</td>\n",
              "      <td>0</td>\n",
              "      <td>0</td>\n",
              "      <td>0</td>\n",
              "      <td>0</td>\n",
              "      <td>0</td>\n",
              "      <td>0</td>\n",
              "      <td>...</td>\n",
              "      <td>0</td>\n",
              "      <td>0</td>\n",
              "      <td>0</td>\n",
              "      <td>0</td>\n",
              "      <td>0</td>\n",
              "      <td>0</td>\n",
              "      <td>0</td>\n",
              "      <td>0</td>\n",
              "      <td>0</td>\n",
              "      <td>0</td>\n",
              "    </tr>\n",
              "    <tr>\n",
              "      <th>4</th>\n",
              "      <td>2.5000</td>\n",
              "      <td>112.5000</td>\n",
              "      <td>0</td>\n",
              "      <td>0</td>\n",
              "      <td>0</td>\n",
              "      <td>0</td>\n",
              "      <td>0</td>\n",
              "      <td>0</td>\n",
              "      <td>0</td>\n",
              "      <td>0</td>\n",
              "      <td>...</td>\n",
              "      <td>0</td>\n",
              "      <td>0</td>\n",
              "      <td>0</td>\n",
              "      <td>0</td>\n",
              "      <td>0</td>\n",
              "      <td>0</td>\n",
              "      <td>0</td>\n",
              "      <td>0</td>\n",
              "      <td>0</td>\n",
              "      <td>0</td>\n",
              "    </tr>\n",
              "    <tr>\n",
              "      <th>...</th>\n",
              "      <td>...</td>\n",
              "      <td>...</td>\n",
              "      <td>...</td>\n",
              "      <td>...</td>\n",
              "      <td>...</td>\n",
              "      <td>...</td>\n",
              "      <td>...</td>\n",
              "      <td>...</td>\n",
              "      <td>...</td>\n",
              "      <td>...</td>\n",
              "      <td>...</td>\n",
              "      <td>...</td>\n",
              "      <td>...</td>\n",
              "      <td>...</td>\n",
              "      <td>...</td>\n",
              "      <td>...</td>\n",
              "      <td>...</td>\n",
              "      <td>...</td>\n",
              "      <td>...</td>\n",
              "      <td>...</td>\n",
              "      <td>...</td>\n",
              "    </tr>\n",
              "    <tr>\n",
              "      <th>401</th>\n",
              "      <td>42.5922</td>\n",
              "      <td>-83.3362</td>\n",
              "      <td>0</td>\n",
              "      <td>0</td>\n",
              "      <td>0</td>\n",
              "      <td>0</td>\n",
              "      <td>0</td>\n",
              "      <td>0</td>\n",
              "      <td>0</td>\n",
              "      <td>0</td>\n",
              "      <td>...</td>\n",
              "      <td>0</td>\n",
              "      <td>0</td>\n",
              "      <td>0</td>\n",
              "      <td>0</td>\n",
              "      <td>0</td>\n",
              "      <td>0</td>\n",
              "      <td>0</td>\n",
              "      <td>0</td>\n",
              "      <td>0</td>\n",
              "      <td>0</td>\n",
              "    </tr>\n",
              "    <tr>\n",
              "      <th>402</th>\n",
              "      <td>42.2791</td>\n",
              "      <td>-83.3362</td>\n",
              "      <td>0</td>\n",
              "      <td>0</td>\n",
              "      <td>0</td>\n",
              "      <td>0</td>\n",
              "      <td>0</td>\n",
              "      <td>0</td>\n",
              "      <td>0</td>\n",
              "      <td>0</td>\n",
              "      <td>...</td>\n",
              "      <td>0</td>\n",
              "      <td>0</td>\n",
              "      <td>0</td>\n",
              "      <td>0</td>\n",
              "      <td>0</td>\n",
              "      <td>0</td>\n",
              "      <td>0</td>\n",
              "      <td>0</td>\n",
              "      <td>0</td>\n",
              "      <td>0</td>\n",
              "    </tr>\n",
              "    <tr>\n",
              "      <th>403</th>\n",
              "      <td>39.5393</td>\n",
              "      <td>-75.6674</td>\n",
              "      <td>0</td>\n",
              "      <td>0</td>\n",
              "      <td>0</td>\n",
              "      <td>0</td>\n",
              "      <td>0</td>\n",
              "      <td>0</td>\n",
              "      <td>0</td>\n",
              "      <td>0</td>\n",
              "      <td>...</td>\n",
              "      <td>0</td>\n",
              "      <td>0</td>\n",
              "      <td>0</td>\n",
              "      <td>0</td>\n",
              "      <td>0</td>\n",
              "      <td>0</td>\n",
              "      <td>0</td>\n",
              "      <td>0</td>\n",
              "      <td>0</td>\n",
              "      <td>0</td>\n",
              "    </tr>\n",
              "    <tr>\n",
              "      <th>404</th>\n",
              "      <td>22.0000</td>\n",
              "      <td>-80.0000</td>\n",
              "      <td>0</td>\n",
              "      <td>0</td>\n",
              "      <td>0</td>\n",
              "      <td>0</td>\n",
              "      <td>0</td>\n",
              "      <td>0</td>\n",
              "      <td>0</td>\n",
              "      <td>0</td>\n",
              "      <td>...</td>\n",
              "      <td>0</td>\n",
              "      <td>0</td>\n",
              "      <td>0</td>\n",
              "      <td>0</td>\n",
              "      <td>0</td>\n",
              "      <td>0</td>\n",
              "      <td>0</td>\n",
              "      <td>0</td>\n",
              "      <td>0</td>\n",
              "      <td>0</td>\n",
              "    </tr>\n",
              "    <tr>\n",
              "      <th>405</th>\n",
              "      <td>5.0000</td>\n",
              "      <td>-58.7500</td>\n",
              "      <td>0</td>\n",
              "      <td>0</td>\n",
              "      <td>0</td>\n",
              "      <td>0</td>\n",
              "      <td>0</td>\n",
              "      <td>0</td>\n",
              "      <td>0</td>\n",
              "      <td>0</td>\n",
              "      <td>...</td>\n",
              "      <td>0</td>\n",
              "      <td>0</td>\n",
              "      <td>0</td>\n",
              "      <td>0</td>\n",
              "      <td>0</td>\n",
              "      <td>0</td>\n",
              "      <td>0</td>\n",
              "      <td>0</td>\n",
              "      <td>0</td>\n",
              "      <td>1</td>\n",
              "    </tr>\n",
              "  </tbody>\n",
              "</table>\n",
              "<p>406 rows × 53 columns</p>\n",
              "</div>\n",
              "      <button class=\"colab-df-convert\" onclick=\"convertToInteractive('df-fa60441f-9e47-45a9-b89c-dc2925dd238e')\"\n",
              "              title=\"Convert this dataframe to an interactive table.\"\n",
              "              style=\"display:none;\">\n",
              "        \n",
              "  <svg xmlns=\"http://www.w3.org/2000/svg\" height=\"24px\"viewBox=\"0 0 24 24\"\n",
              "       width=\"24px\">\n",
              "    <path d=\"M0 0h24v24H0V0z\" fill=\"none\"/>\n",
              "    <path d=\"M18.56 5.44l.94 2.06.94-2.06 2.06-.94-2.06-.94-.94-2.06-.94 2.06-2.06.94zm-11 1L8.5 8.5l.94-2.06 2.06-.94-2.06-.94L8.5 2.5l-.94 2.06-2.06.94zm10 10l.94 2.06.94-2.06 2.06-.94-2.06-.94-.94-2.06-.94 2.06-2.06.94z\"/><path d=\"M17.41 7.96l-1.37-1.37c-.4-.4-.92-.59-1.43-.59-.52 0-1.04.2-1.43.59L10.3 9.45l-7.72 7.72c-.78.78-.78 2.05 0 2.83L4 21.41c.39.39.9.59 1.41.59.51 0 1.02-.2 1.41-.59l7.78-7.78 2.81-2.81c.8-.78.8-2.07 0-2.86zM5.41 20L4 18.59l7.72-7.72 1.47 1.35L5.41 20z\"/>\n",
              "  </svg>\n",
              "      </button>\n",
              "      \n",
              "  <style>\n",
              "    .colab-df-container {\n",
              "      display:flex;\n",
              "      flex-wrap:wrap;\n",
              "      gap: 12px;\n",
              "    }\n",
              "\n",
              "    .colab-df-convert {\n",
              "      background-color: #E8F0FE;\n",
              "      border: none;\n",
              "      border-radius: 50%;\n",
              "      cursor: pointer;\n",
              "      display: none;\n",
              "      fill: #1967D2;\n",
              "      height: 32px;\n",
              "      padding: 0 0 0 0;\n",
              "      width: 32px;\n",
              "    }\n",
              "\n",
              "    .colab-df-convert:hover {\n",
              "      background-color: #E2EBFA;\n",
              "      box-shadow: 0px 1px 2px rgba(60, 64, 67, 0.3), 0px 1px 3px 1px rgba(60, 64, 67, 0.15);\n",
              "      fill: #174EA6;\n",
              "    }\n",
              "\n",
              "    [theme=dark] .colab-df-convert {\n",
              "      background-color: #3B4455;\n",
              "      fill: #D2E3FC;\n",
              "    }\n",
              "\n",
              "    [theme=dark] .colab-df-convert:hover {\n",
              "      background-color: #434B5C;\n",
              "      box-shadow: 0px 1px 3px 1px rgba(0, 0, 0, 0.15);\n",
              "      filter: drop-shadow(0px 1px 2px rgba(0, 0, 0, 0.3));\n",
              "      fill: #FFFFFF;\n",
              "    }\n",
              "  </style>\n",
              "\n",
              "      <script>\n",
              "        const buttonEl =\n",
              "          document.querySelector('#df-fa60441f-9e47-45a9-b89c-dc2925dd238e button.colab-df-convert');\n",
              "        buttonEl.style.display =\n",
              "          google.colab.kernel.accessAllowed ? 'block' : 'none';\n",
              "\n",
              "        async function convertToInteractive(key) {\n",
              "          const element = document.querySelector('#df-fa60441f-9e47-45a9-b89c-dc2925dd238e');\n",
              "          const dataTable =\n",
              "            await google.colab.kernel.invokeFunction('convertToInteractive',\n",
              "                                                     [key], {});\n",
              "          if (!dataTable) return;\n",
              "\n",
              "          const docLinkHtml = 'Like what you see? Visit the ' +\n",
              "            '<a target=\"_blank\" href=https://colab.research.google.com/notebooks/data_table.ipynb>data table notebook</a>'\n",
              "            + ' to learn more about interactive tables.';\n",
              "          element.innerHTML = '';\n",
              "          dataTable['output_type'] = 'display_data';\n",
              "          await google.colab.output.renderOutput(dataTable, element);\n",
              "          const docLink = document.createElement('div');\n",
              "          docLink.innerHTML = docLinkHtml;\n",
              "          element.appendChild(docLink);\n",
              "        }\n",
              "      </script>\n",
              "    </div>\n",
              "  </div>\n",
              "  "
            ]
          },
          "metadata": {},
          "execution_count": 5
        }
      ]
    },
    {
      "cell_type": "code",
      "source": [
        "DATAs"
      ],
      "metadata": {
        "id": "w-J_Nh009HJ2",
        "outputId": "2b026389-d94b-494f-9c18-34eedcc4ec14",
        "colab": {
          "base_uri": "https://localhost:8080/"
        }
      },
      "id": "w-J_Nh009HJ2",
      "execution_count": 6,
      "outputs": [
        {
          "output_type": "execute_result",
          "data": {
            "text/plain": [
              "[array([[ 30.3883, -95.6963,  23.    ,   0.    ],\n",
              "        [ 38.0606, -84.4803,   0.    ,   0.    ],\n",
              "        [ 43.6632, -96.8351,   0.    ,   0.    ],\n",
              "        ...,\n",
              "        [ 43.3266, -84.5361,   1.    ,   0.    ],\n",
              "        [ 26.8946, -81.9098,   1.    ,   0.    ],\n",
              "        [ 39.549 , 116.1306,  23.    ,   3.    ]]),\n",
              " array([[  28.1667,   84.25  ,   34.    ,    1.    ],\n",
              "        [  23.7   ,  121.    ,   48.    ,   17.    ],\n",
              "        [  41.1489,  -73.983 ,    9.    ,    0.    ],\n",
              "        ...,\n",
              "        [  45.547 , -123.1386,   50.    ,    0.    ],\n",
              "        [  28.0339,    1.6596,   45.    ,    0.    ],\n",
              "        [ -35.6751,  -71.543 ,   41.    ,    0.    ]]),\n",
              " array([[ 40.3888, -82.7649,  29.    ,   0.    ],\n",
              "        [ 42.6712, -97.8722,  23.    ,   0.    ],\n",
              "        [ 37.5777, 112.2922,  37.    , 133.    ],\n",
              "        ...,\n",
              "        [ 29.028 , -81.0755,   7.    ,   0.    ],\n",
              "        [ 11.55  , 104.9167,   1.    ,   0.    ],\n",
              "        [ 40.3888, -82.7649,  18.    ,   0.    ]])]"
            ]
          },
          "metadata": {},
          "execution_count": 6
        }
      ]
    },
    {
      "cell_type": "code",
      "source": [
        "DATAs[0]"
      ],
      "metadata": {
        "id": "1pQx8Evx8t5Z",
        "outputId": "e890b430-bae4-4f5c-874a-92fbc436707f",
        "colab": {
          "base_uri": "https://localhost:8080/"
        }
      },
      "id": "1pQx8Evx8t5Z",
      "execution_count": 7,
      "outputs": [
        {
          "output_type": "execute_result",
          "data": {
            "text/plain": [
              "array([[ 30.3883, -95.6963,  23.    ,   0.    ],\n",
              "       [ 38.0606, -84.4803,   0.    ,   0.    ],\n",
              "       [ 43.6632, -96.8351,   0.    ,   0.    ],\n",
              "       ...,\n",
              "       [ 43.3266, -84.5361,   1.    ,   0.    ],\n",
              "       [ 26.8946, -81.9098,   1.    ,   0.    ],\n",
              "       [ 39.549 , 116.1306,  23.    ,   3.    ]])"
            ]
          },
          "metadata": {},
          "execution_count": 7
        }
      ]
    },
    {
      "cell_type": "markdown",
      "source": [
        "# Models"
      ],
      "metadata": {
        "id": "P-BCOaaA7Uy2"
      },
      "id": "P-BCOaaA7Uy2"
    },
    {
      "cell_type": "markdown",
      "source": [
        "## Confirmed"
      ],
      "metadata": {
        "id": "G8qlSCp5aOen"
      },
      "id": "G8qlSCp5aOen"
    },
    {
      "cell_type": "code",
      "source": [
        "DATA = DATAs[2]\n",
        "input_data = DATA[:,:-1]\n",
        "print(input_data.shape)\n",
        "output_data = DATA[:, -1]\n",
        "print(output_data.shape)\n",
        "input_train, input_test, output_train, output_test = train_test_split(input_data, output_data)"
      ],
      "metadata": {
        "id": "cUzIO8NTac-t",
        "colab": {
          "base_uri": "https://localhost:8080/"
        },
        "outputId": "318ec72d-a1a3-4553-df9e-4a5ed68420ea"
      },
      "execution_count": 56,
      "outputs": [
        {
          "output_type": "stream",
          "name": "stdout",
          "text": [
            "(20706, 3)\n",
            "(20706,)\n"
          ]
        }
      ],
      "id": "cUzIO8NTac-t"
    },
    {
      "cell_type": "code",
      "source": [
        "# Importing necessary libraries\n",
        "from keras.models import Sequential\n",
        "from keras.layers import Dense\n",
        "from keras import callbacks\n",
        "import tensorflow as tf"
      ],
      "metadata": {
        "id": "yCLVTarObtKB"
      },
      "id": "yCLVTarObtKB",
      "execution_count": 57,
      "outputs": []
    },
    {
      "cell_type": "code",
      "source": [
        "X_train, X_test, y_train, y_test = input_train, input_test, output_train, output_test"
      ],
      "metadata": {
        "id": "REpO4s3ecIws"
      },
      "id": "REpO4s3ecIws",
      "execution_count": 58,
      "outputs": []
    },
    {
      "cell_type": "code",
      "source": [
        "model = Sequential()\n",
        "\n",
        "model.add(Dense(4, input_dim=X_train.shape[1], activation='relu'))\n",
        "model.add(Dense(4, activation='relu'))\n",
        "model.add(Dense(4, activation='relu'))\n",
        "model.add(Dense(4, activation='relu'))\n",
        "model.add(Dense(1, activation='relu'))\n"
      ],
      "metadata": {
        "id": "8SLdJiQmbvhQ"
      },
      "id": "8SLdJiQmbvhQ",
      "execution_count": 59,
      "outputs": []
    },
    {
      "cell_type": "code",
      "source": [
        "#Early stopping\n",
        "early_stopping = callbacks.EarlyStopping(\n",
        "    min_delta=0.001,          # minimium amount of change to be considered an improvement\n",
        "    patience=20,              # number of epochs to wait before deciding there is no significant improvement in training\n",
        "    restore_best_weights=True,\n",
        ")"
      ],
      "metadata": {
        "id": "DD7wYnVFcd7U"
      },
      "id": "DD7wYnVFcd7U",
      "execution_count": 60,
      "outputs": []
    },
    {
      "cell_type": "code",
      "source": [
        "from sklearn.metrics import r2_score"
      ],
      "metadata": {
        "id": "aMZeVAIJd39h"
      },
      "id": "aMZeVAIJd39h",
      "execution_count": 61,
      "outputs": []
    },
    {
      "cell_type": "code",
      "source": [
        "model.compile(\n",
        "    loss='mean_squared_error', \n",
        "    optimizer=tf.keras.optimizers.Adam(learning_rate=0.1),\n",
        "    )"
      ],
      "metadata": {
        "id": "-ucTy4PEcfnh"
      },
      "id": "-ucTy4PEcfnh",
      "execution_count": 62,
      "outputs": []
    },
    {
      "cell_type": "code",
      "source": [
        "history = model.fit(X_train, y_train, \n",
        "                    batch_size = 1024, \n",
        "                    epochs = 100000, \n",
        "                    validation_split=0.2,\n",
        "                    callbacks=[early_stopping]\n",
        "                    )"
      ],
      "metadata": {
        "id": "Eb4uoVjGch77",
        "outputId": "d93ff71a-1fb5-49d2-a54d-2e9174f24896",
        "colab": {
          "base_uri": "https://localhost:8080/"
        }
      },
      "id": "Eb4uoVjGch77",
      "execution_count": 63,
      "outputs": [
        {
          "output_type": "stream",
          "name": "stdout",
          "text": [
            "Epoch 1/100000\n",
            "13/13 [==============================] - 3s 19ms/step - loss: 5873230.0000 - val_loss: 7550910.0000\n",
            "Epoch 2/100000\n",
            "13/13 [==============================] - 0s 6ms/step - loss: 5873230.0000 - val_loss: 7550910.0000\n",
            "Epoch 3/100000\n",
            "13/13 [==============================] - 0s 7ms/step - loss: 5873230.0000 - val_loss: 7550910.0000\n",
            "Epoch 4/100000\n",
            "13/13 [==============================] - 0s 7ms/step - loss: 5873230.0000 - val_loss: 7550910.0000\n",
            "Epoch 5/100000\n",
            "13/13 [==============================] - 0s 7ms/step - loss: 5873230.0000 - val_loss: 7550910.0000\n",
            "Epoch 6/100000\n",
            "13/13 [==============================] - 0s 6ms/step - loss: 5873230.0000 - val_loss: 7550910.0000\n",
            "Epoch 7/100000\n",
            "13/13 [==============================] - 0s 5ms/step - loss: 5873230.0000 - val_loss: 7550910.0000\n",
            "Epoch 8/100000\n",
            "13/13 [==============================] - 0s 7ms/step - loss: 5873230.0000 - val_loss: 7550910.0000\n",
            "Epoch 9/100000\n",
            "13/13 [==============================] - 0s 6ms/step - loss: 5873229.5000 - val_loss: 7550910.0000\n",
            "Epoch 10/100000\n",
            "13/13 [==============================] - 0s 6ms/step - loss: 5873230.0000 - val_loss: 7550910.0000\n",
            "Epoch 11/100000\n",
            "13/13 [==============================] - 0s 6ms/step - loss: 5873229.5000 - val_loss: 7550910.0000\n",
            "Epoch 12/100000\n",
            "13/13 [==============================] - 0s 6ms/step - loss: 5873231.0000 - val_loss: 7550910.0000\n",
            "Epoch 13/100000\n",
            "13/13 [==============================] - 0s 7ms/step - loss: 5873230.0000 - val_loss: 7550910.0000\n",
            "Epoch 14/100000\n",
            "13/13 [==============================] - 0s 6ms/step - loss: 5873230.0000 - val_loss: 7550910.0000\n",
            "Epoch 15/100000\n",
            "13/13 [==============================] - 0s 5ms/step - loss: 5873229.5000 - val_loss: 7550910.0000\n",
            "Epoch 16/100000\n",
            "13/13 [==============================] - 0s 5ms/step - loss: 5873231.0000 - val_loss: 7550910.0000\n",
            "Epoch 17/100000\n",
            "13/13 [==============================] - 0s 6ms/step - loss: 5873230.0000 - val_loss: 7550910.0000\n",
            "Epoch 18/100000\n",
            "13/13 [==============================] - 0s 6ms/step - loss: 5873230.0000 - val_loss: 7550910.0000\n",
            "Epoch 19/100000\n",
            "13/13 [==============================] - 0s 5ms/step - loss: 5873230.0000 - val_loss: 7550910.0000\n",
            "Epoch 20/100000\n",
            "13/13 [==============================] - 0s 7ms/step - loss: 5873229.5000 - val_loss: 7550910.0000\n",
            "Epoch 21/100000\n",
            "13/13 [==============================] - 0s 6ms/step - loss: 5873230.0000 - val_loss: 7550910.0000\n"
          ]
        }
      ]
    },
    {
      "cell_type": "code",
      "source": [
        "predictions = model.predict(X_test)\n",
        "print('r2-score is', r2_score(y_pred=predictions, y_true=y_test))"
      ],
      "metadata": {
        "id": "EtDd89VYhhTf",
        "outputId": "aa169719-5677-4069-f403-b0668edb6f5b",
        "colab": {
          "base_uri": "https://localhost:8080/"
        }
      },
      "id": "EtDd89VYhhTf",
      "execution_count": 64,
      "outputs": [
        {
          "output_type": "stream",
          "name": "stdout",
          "text": [
            "162/162 [==============================] - 0s 2ms/step\n",
            "r2-score is -0.0036864656157711284\n"
          ]
        }
      ]
    },
    {
      "cell_type": "code",
      "source": [
        "predictions"
      ],
      "metadata": {
        "id": "DFd4Nkrvh8AV",
        "outputId": "6400aca9-1028-4d45-ba73-ab19d3a3cfaa",
        "colab": {
          "base_uri": "https://localhost:8080/"
        }
      },
      "id": "DFd4Nkrvh8AV",
      "execution_count": 65,
      "outputs": [
        {
          "output_type": "execute_result",
          "data": {
            "text/plain": [
              "array([[0.],\n",
              "       [0.],\n",
              "       [0.],\n",
              "       ...,\n",
              "       [0.],\n",
              "       [0.],\n",
              "       [0.]], dtype=float32)"
            ]
          },
          "metadata": {},
          "execution_count": 65
        }
      ]
    },
    {
      "cell_type": "code",
      "source": [
        "# clf = MLPRegressor(hidden_layer_sizes = (4,4,4,4),\n",
        "#                    activation='relu',\n",
        "#                    solver='lbfgs',\n",
        "#                    learning_rate='constant',\n",
        "#                    learning_rate_init=0.1,\n",
        "#                    alpha=0.0001,\n",
        "#                    max_iter=10000000)\n",
        "# clf.fit(input_train, output_train)"
      ],
      "metadata": {
        "id": "PNXyk6lPa10v"
      },
      "execution_count": 66,
      "outputs": [],
      "id": "PNXyk6lPa10v"
    },
    {
      "cell_type": "code",
      "source": [
        "# clf.score(input_train, output_train)\n"
      ],
      "metadata": {
        "id": "m4RdBN-Nqkh8"
      },
      "id": "m4RdBN-Nqkh8",
      "execution_count": 67,
      "outputs": []
    },
    {
      "cell_type": "code",
      "source": [
        "# clf.score(input_test, output_test)"
      ],
      "metadata": {
        "id": "hVHthQeYb8x_"
      },
      "id": "hVHthQeYb8x_",
      "execution_count": 68,
      "outputs": []
    },
    {
      "cell_type": "markdown",
      "source": [
        "## Recovered"
      ],
      "metadata": {
        "id": "6MVpQAjaaUUH"
      },
      "id": "6MVpQAjaaUUH"
    },
    {
      "cell_type": "code",
      "source": [
        "DATA = DATAs[1]\n",
        "input_data = DATA[:,:-1]\n",
        "print(input_data.shape)\n",
        "output_data = DATA[:, -1]\n",
        "print(output_data.shape)\n",
        "input_train, input_test, output_train, output_test = train_test_split(input_data, output_data)"
      ],
      "metadata": {
        "outputId": "7ce2eaed-1e91-4548-ff26-43de1698ae34",
        "colab": {
          "base_uri": "https://localhost:8080/"
        },
        "id": "LCd0cvKGnMMv"
      },
      "execution_count": null,
      "outputs": [
        {
          "output_type": "stream",
          "name": "stdout",
          "text": [
            "(20706, 3)\n",
            "(20706,)\n"
          ]
        }
      ],
      "id": "LCd0cvKGnMMv"
    },
    {
      "cell_type": "code",
      "source": [
        "clf = MLPRegressor(hidden_layer_sizes = (4,4,4,4),\n",
        "                   activation='relu',\n",
        "                   solver='lbfgs',\n",
        "                   learning_rate='constant',\n",
        "                   learning_rate_init=0.5,\n",
        "                   alpha=0.001,\n",
        "                   max_iter=1000000000)\n",
        "clf.fit(input_train, output_train)"
      ],
      "metadata": {
        "id": "WQbYD0rynMMw",
        "outputId": "65a84a73-2bbf-4ccb-dd60-4ba6efcba095",
        "colab": {
          "base_uri": "https://localhost:8080/"
        }
      },
      "execution_count": null,
      "outputs": [
        {
          "output_type": "execute_result",
          "data": {
            "text/plain": [
              "MLPRegressor(alpha=0.001, hidden_layer_sizes=(4, 4, 4, 4),\n",
              "             learning_rate_init=0.5, max_iter=1000000000, solver='lbfgs')"
            ]
          },
          "metadata": {},
          "execution_count": 13
        }
      ],
      "id": "WQbYD0rynMMw"
    },
    {
      "cell_type": "code",
      "source": [
        "clf.score(input_test, output_test)"
      ],
      "metadata": {
        "outputId": "2bdd2191-d55e-4120-af6c-1f8253365c3c",
        "colab": {
          "base_uri": "https://localhost:8080/"
        },
        "id": "mgXtoFm0nMMx"
      },
      "execution_count": null,
      "outputs": [
        {
          "output_type": "execute_result",
          "data": {
            "text/plain": [
              "0.052095222238248806"
            ]
          },
          "metadata": {},
          "execution_count": 14
        }
      ],
      "id": "mgXtoFm0nMMx"
    },
    {
      "cell_type": "markdown",
      "source": [
        "\n",
        "## Dead"
      ],
      "metadata": {
        "id": "Wkz9cGRmaPqA"
      },
      "id": "Wkz9cGRmaPqA"
    },
    {
      "cell_type": "code",
      "source": [
        "DATA = DATAs[0]\n",
        "input_data = DATA[:,:-1]\n",
        "print(input_data.shape)\n",
        "output_data = DATA[:, -1]\n",
        "print(output_data.shape)\n",
        "input_train, input_test, output_train, output_test = train_test_split(input_data, output_data)"
      ],
      "metadata": {
        "outputId": "5fd28172-ed02-4e13-fb36-892e3587c0d3",
        "colab": {
          "base_uri": "https://localhost:8080/"
        },
        "id": "kdLpWKY8nILv"
      },
      "execution_count": null,
      "outputs": [
        {
          "output_type": "stream",
          "name": "stdout",
          "text": [
            "(20706, 3)\n",
            "(20706,)\n"
          ]
        }
      ],
      "id": "kdLpWKY8nILv"
    },
    {
      "cell_type": "code",
      "source": [
        "clf = MLPRegressor(hidden_layer_sizes = (4,4,4,4),\n",
        "                   activation='relu',\n",
        "                   solver='lbfgs',\n",
        "                   learning_rate='adaptive',\n",
        "                   learning_rate_init=0.01,\n",
        "                   alpha=0.01,\n",
        "                   max_iter=1000000000)\n",
        "clf.fit(input_train, output_train)"
      ],
      "metadata": {
        "id": "ER9lfyTgnILx",
        "outputId": "66956ccc-7786-43ec-f846-e7b7d838a380",
        "colab": {
          "base_uri": "https://localhost:8080/"
        }
      },
      "execution_count": null,
      "outputs": [
        {
          "output_type": "execute_result",
          "data": {
            "text/plain": [
              "MLPRegressor(alpha=0.01, hidden_layer_sizes=(4, 4, 4, 4),\n",
              "             learning_rate='adaptive', learning_rate_init=0.01,\n",
              "             max_iter=1000000000, solver='lbfgs')"
            ]
          },
          "metadata": {},
          "execution_count": 16
        }
      ],
      "id": "ER9lfyTgnILx"
    },
    {
      "cell_type": "code",
      "source": [
        "clf.score(input_test, output_test)"
      ],
      "metadata": {
        "outputId": "3df7c41e-f9e8-479d-a428-7db50b01a7f5",
        "colab": {
          "base_uri": "https://localhost:8080/"
        },
        "id": "neMvuaOKnILx"
      },
      "execution_count": null,
      "outputs": [
        {
          "output_type": "execute_result",
          "data": {
            "text/plain": [
              "-0.049701352027102574"
            ]
          },
          "metadata": {},
          "execution_count": 17
        }
      ],
      "id": "neMvuaOKnILx"
    },
    {
      "cell_type": "code",
      "source": [],
      "metadata": {
        "id": "8gwv9C_MrDIg"
      },
      "id": "8gwv9C_MrDIg",
      "execution_count": null,
      "outputs": []
    }
  ],
  "metadata": {
    "kernelspec": {
      "display_name": "Python 3 (ipykernel)",
      "language": "python",
      "name": "python3"
    },
    "language_info": {
      "codemirror_mode": {
        "name": "ipython",
        "version": 3
      },
      "file_extension": ".py",
      "mimetype": "text/x-python",
      "name": "python",
      "nbconvert_exporter": "python",
      "pygments_lexer": "ipython3",
      "version": "3.9.12"
    },
    "colab": {
      "provenance": [],
      "toc_visible": true
    },
    "accelerator": "GPU",
    "gpuClass": "standard"
  },
  "nbformat": 4,
  "nbformat_minor": 5
}